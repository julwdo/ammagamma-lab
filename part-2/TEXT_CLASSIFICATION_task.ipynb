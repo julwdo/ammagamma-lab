{
  "cells": [
    {
      "cell_type": "markdown",
      "metadata": {
        "id": "It0VEd1nm_ss"
      },
      "source": [
        "# Boring stuff: setting everything up\n",
        "\n",
        "*Warning: run this section only once*"
      ]
    },
    {
      "cell_type": "markdown",
      "metadata": {
        "id": "sLdduGRqOTkt"
      },
      "source": [
        "Connect to your Google Drive so that your work does not get lost when you end your session"
      ]
    },
    {
      "cell_type": "code",
      "execution_count": null,
      "metadata": {
        "colab": {
          "base_uri": "https://localhost:8080/"
        },
        "id": "nyDyIrpcOxAp",
        "outputId": "0caccd29-8e3c-4cb6-dca7-2dcf6ef6165c"
      },
      "outputs": [
        {
          "name": "stdout",
          "output_type": "stream",
          "text": [
            "Mounted at /content/drive\n"
          ]
        }
      ],
      "source": [
        "from google.colab import drive\n",
        "drive.mount('/content/drive')"
      ]
    },
    {
      "cell_type": "markdown",
      "metadata": {
        "id": "GDkZGzNFO86-"
      },
      "source": [
        "Change working directory to your Google Drive"
      ]
    },
    {
      "cell_type": "code",
      "execution_count": null,
      "metadata": {
        "colab": {
          "base_uri": "https://localhost:8080/"
        },
        "id": "5IQIWvXAnbHJ",
        "outputId": "11467883-cd40-4c1e-a383-f15f982a37c6"
      },
      "outputs": [
        {
          "name": "stdout",
          "output_type": "stream",
          "text": [
            "/content/drive/MyDrive\n"
          ]
        }
      ],
      "source": [
        "%cd /content/drive/MyDrive/"
      ]
    },
    {
      "cell_type": "markdown",
      "metadata": {
        "id": "aKo5JuZyPAgp"
      },
      "source": [
        "Create the main directory for the laboratory inside your Google Drive"
      ]
    },
    {
      "cell_type": "code",
      "execution_count": null,
      "metadata": {
        "id": "k7D08GG8nOxN"
      },
      "outputs": [],
      "source": [
        "!mkdir NLP_MASTER"
      ]
    },
    {
      "cell_type": "markdown",
      "metadata": {
        "id": "AMqF_TKgPGZU"
      },
      "source": [
        "Remove unwanted directories (if it is your first run these directories do not exist and the following two commands have no effect)"
      ]
    },
    {
      "cell_type": "code",
      "execution_count": null,
      "metadata": {
        "id": "G3sbhSc3RnWf"
      },
      "outputs": [],
      "source": [
        "!rm -rf /content/drive/MyDrive/NLP_MASTER/finance"
      ]
    },
    {
      "cell_type": "code",
      "execution_count": null,
      "metadata": {
        "id": "kM0LeaHzWIIW"
      },
      "outputs": [],
      "source": [
        "!rm -rf /content/drive/MyDrive/NLP_MASTER/spacy-projects"
      ]
    },
    {
      "cell_type": "markdown",
      "metadata": {
        "id": "uZcJb1vxPRgU"
      },
      "source": [
        "Now let's install all the dependencies for the laboratory"
      ]
    },
    {
      "cell_type": "code",
      "execution_count": 1,
      "metadata": {
        "colab": {
          "base_uri": "https://localhost:8080/"
        },
        "id": "MyKK8ROgQwDJ",
        "outputId": "f8d6fe49-15aa-4199-a3c9-6d75537c6253"
      },
      "outputs": [
        {
          "name": "stdout",
          "output_type": "stream",
          "text": [
            "Requirement already satisfied: pip in d:\\studies\\materials\\second-cycle\\i year\\iii trimester\\ammagamma-lab\\ammagamma-lab\\ag-lab\\lib\\site-packages (24.0)\n",
            "Requirement already satisfied: setuptools in d:\\studies\\materials\\second-cycle\\i year\\iii trimester\\ammagamma-lab\\ammagamma-lab\\ag-lab\\lib\\site-packages (69.5.1)\n",
            "Collecting setuptools\n",
            "  Using cached setuptools-70.0.0-py3-none-any.whl.metadata (5.9 kB)\n",
            "Requirement already satisfied: wheel in d:\\studies\\materials\\second-cycle\\i year\\iii trimester\\ammagamma-lab\\ammagamma-lab\\ag-lab\\lib\\site-packages (0.43.0)\n",
            "Using cached setuptools-70.0.0-py3-none-any.whl (863 kB)\n",
            "Installing collected packages: setuptools\n",
            "  Attempting uninstall: setuptools\n",
            "    Found existing installation: setuptools 69.5.1\n",
            "    Uninstalling setuptools-69.5.1:\n",
            "      Successfully uninstalled setuptools-69.5.1\n",
            "Successfully installed setuptools-70.0.0\n"
          ]
        }
      ],
      "source": [
        "!pip install -U pip setuptools wheel"
      ]
    },
    {
      "cell_type": "code",
      "execution_count": 2,
      "metadata": {
        "colab": {
          "base_uri": "https://localhost:8080/"
        },
        "id": "FjdSfytkO30n",
        "outputId": "c9b56963-26dd-4b9b-cc0e-afa8476ddfc0"
      },
      "outputs": [
        {
          "name": "stdout",
          "output_type": "stream",
          "text": [
            "Collecting spacy-nightly\n",
            "  Using cached spacy-nightly-3.0.0rc5.tar.gz (7.0 MB)\n",
            "  Installing build dependencies: started\n",
            "  Installing build dependencies: finished with status 'done'\n",
            "  Getting requirements to build wheel: started\n",
            "  Getting requirements to build wheel: finished with status 'error'\n"
          ]
        },
        {
          "name": "stderr",
          "output_type": "stream",
          "text": [
            "  error: subprocess-exited-with-error\n",
            "  \n",
            "  × Getting requirements to build wheel did not run successfully.\n",
            "  │ exit code: 1\n",
            "  ╰─> [167 lines of output]\n",
            "      Copied C:\\Users\\Julia\\AppData\\Local\\Temp\\pip-install-mr7qq6hy\\spacy-nightly_33d31e88cad54d51bdc73f19fa4ff2ad\\setup.cfg -> C:\\Users\\Julia\\AppData\\Local\\Temp\\pip-install-mr7qq6hy\\spacy-nightly_33d31e88cad54d51bdc73f19fa4ff2ad\\spacy\\tests\\package\n",
            "      Copied C:\\Users\\Julia\\AppData\\Local\\Temp\\pip-install-mr7qq6hy\\spacy-nightly_33d31e88cad54d51bdc73f19fa4ff2ad\\pyproject.toml -> C:\\Users\\Julia\\AppData\\Local\\Temp\\pip-install-mr7qq6hy\\spacy-nightly_33d31e88cad54d51bdc73f19fa4ff2ad\\spacy\\tests\\package\n",
            "      Cythonizing sources\n",
            "      Compiling spacy/training/example.pyx because it changed.\n",
            "      Compiling spacy/parts_of_speech.pyx because it changed.\n",
            "      Compiling spacy/strings.pyx because it changed.\n",
            "      Compiling spacy/lexeme.pyx because it changed.\n",
            "      Compiling spacy/vocab.pyx because it changed.\n",
            "      Compiling spacy/attrs.pyx because it changed.\n",
            "      Compiling spacy/kb.pyx because it changed.\n",
            "      Compiling spacy/ml/parser_model.pyx because it changed.\n",
            "      Compiling spacy/morphology.pyx because it changed.\n",
            "      Compiling spacy/pipeline/dep_parser.pyx because it changed.\n",
            "      Compiling spacy/pipeline/morphologizer.pyx because it changed.\n",
            "      Compiling spacy/pipeline/multitask.pyx because it changed.\n",
            "      Compiling spacy/pipeline/ner.pyx because it changed.\n",
            "      Compiling spacy/pipeline/pipe.pyx because it changed.\n",
            "      Compiling spacy/pipeline/trainable_pipe.pyx because it changed.\n",
            "      Compiling spacy/pipeline/sentencizer.pyx because it changed.\n",
            "      Compiling spacy/pipeline/senter.pyx because it changed.\n",
            "      Compiling spacy/pipeline/tagger.pyx because it changed.\n",
            "      Compiling spacy/pipeline/transition_parser.pyx because it changed.\n",
            "      Compiling spacy/pipeline/_parser_internals/arc_eager.pyx because it changed.\n",
            "      Compiling spacy/pipeline/_parser_internals/ner.pyx because it changed.\n",
            "      Compiling spacy/pipeline/_parser_internals/nonproj.pyx because it changed.\n",
            "      Compiling spacy/pipeline/_parser_internals/_state.pyx because it changed.\n",
            "      Compiling spacy/pipeline/_parser_internals/stateclass.pyx because it changed.\n",
            "      Compiling spacy/pipeline/_parser_internals/transition_system.pyx because it changed.\n",
            "      Compiling spacy/pipeline/_parser_internals/_beam_utils.pyx because it changed.\n",
            "      Compiling spacy/tokenizer.pyx because it changed.\n",
            "      Compiling spacy/training/align.pyx because it changed.\n",
            "      Compiling spacy/training/gold_io.pyx because it changed.\n",
            "      Compiling spacy/tokens/doc.pyx because it changed.\n",
            "      Compiling spacy/tokens/span.pyx because it changed.\n",
            "      Compiling spacy/tokens/token.pyx because it changed.\n",
            "      Compiling spacy/tokens/span_group.pyx because it changed.\n",
            "      Compiling spacy/tokens/graph.pyx because it changed.\n",
            "      Compiling spacy/tokens/morphanalysis.pyx because it changed.\n",
            "      Compiling spacy/tokens/_retokenize.pyx because it changed.\n",
            "      Compiling spacy/matcher/matcher.pyx because it changed.\n",
            "      Compiling spacy/matcher/phrasematcher.pyx because it changed.\n",
            "      Compiling spacy/matcher/dependencymatcher.pyx because it changed.\n",
            "      Compiling spacy/symbols.pyx because it changed.\n",
            "      Compiling spacy/vectors.pyx because it changed.\n",
            "      [ 1/41] Cythonizing spacy/attrs.pyx\n",
            "      [ 2/41] Cythonizing spacy/kb.pyx\n",
            "      \n",
            "      Error compiling Cython file:\n",
            "      ------------------------------------------------------------\n",
            "      ...\n",
            "          int length\n",
            "      \n",
            "      \n",
            "      cdef class Vocab:\n",
            "          cdef Pool mem\n",
            "          cpdef readonly StringStore strings\n",
            "                ^\n",
            "      ------------------------------------------------------------\n",
            "      \n",
            "      spacy\\vocab.pxd:28:10: Variables cannot be declared with 'cpdef'. Use 'cdef' instead.\n",
            "      \n",
            "      Error compiling Cython file:\n",
            "      ------------------------------------------------------------\n",
            "      ...\n",
            "      \n",
            "      \n",
            "      cdef class Vocab:\n",
            "          cdef Pool mem\n",
            "          cpdef readonly StringStore strings\n",
            "          cpdef public Morphology morphology\n",
            "                ^\n",
            "      ------------------------------------------------------------\n",
            "      \n",
            "      spacy\\vocab.pxd:29:10: Variables cannot be declared with 'cpdef'. Use 'cdef' instead.\n",
            "      \n",
            "      Error compiling Cython file:\n",
            "      ------------------------------------------------------------\n",
            "      ...\n",
            "      \n",
            "      cdef class Vocab:\n",
            "          cdef Pool mem\n",
            "          cpdef readonly StringStore strings\n",
            "          cpdef public Morphology morphology\n",
            "          cpdef public object vectors\n",
            "                ^\n",
            "      ------------------------------------------------------------\n",
            "      \n",
            "      spacy\\vocab.pxd:30:10: Variables cannot be declared with 'cpdef'. Use 'cdef' instead.\n",
            "      \n",
            "      Error compiling Cython file:\n",
            "      ------------------------------------------------------------\n",
            "      ...\n",
            "      cdef class Vocab:\n",
            "          cdef Pool mem\n",
            "          cpdef readonly StringStore strings\n",
            "          cpdef public Morphology morphology\n",
            "          cpdef public object vectors\n",
            "          cpdef public object _lookups\n",
            "                ^\n",
            "      ------------------------------------------------------------\n",
            "      \n",
            "      spacy\\vocab.pxd:31:10: Variables cannot be declared with 'cpdef'. Use 'cdef' instead.\n",
            "      \n",
            "      Error compiling Cython file:\n",
            "      ------------------------------------------------------------\n",
            "      ...\n",
            "          cdef Pool mem\n",
            "          cpdef readonly StringStore strings\n",
            "          cpdef public Morphology morphology\n",
            "          cpdef public object vectors\n",
            "          cpdef public object _lookups\n",
            "          cpdef public object writing_system\n",
            "                ^\n",
            "      ------------------------------------------------------------\n",
            "      \n",
            "      spacy\\vocab.pxd:32:10: Variables cannot be declared with 'cpdef'. Use 'cdef' instead.\n",
            "      \n",
            "      Error compiling Cython file:\n",
            "      ------------------------------------------------------------\n",
            "      ...\n",
            "          cpdef readonly StringStore strings\n",
            "          cpdef public Morphology morphology\n",
            "          cpdef public object vectors\n",
            "          cpdef public object _lookups\n",
            "          cpdef public object writing_system\n",
            "          cpdef public object get_noun_chunks\n",
            "                ^\n",
            "      ------------------------------------------------------------\n",
            "      \n",
            "      spacy\\vocab.pxd:33:10: Variables cannot be declared with 'cpdef'. Use 'cdef' instead.\n",
            "      \n",
            "      Error compiling Cython file:\n",
            "      ------------------------------------------------------------\n",
            "      ...\n",
            "          cdef float prior_prob\n",
            "      \n",
            "      \n",
            "      cdef class KnowledgeBase:\n",
            "          cdef Pool mem\n",
            "          cpdef readonly Vocab vocab\n",
            "                ^\n",
            "      ------------------------------------------------------------\n",
            "      \n",
            "      spacy\\kb.pxd:31:10: Variables cannot be declared with 'cpdef'. Use 'cdef' instead.\n",
            "      Traceback (most recent call last):\n",
            "        File \"D:\\Studies\\Materials\\Second-cycle\\I year\\III trimester\\Ammagamma-Lab\\ammagamma-lab\\ag-lab\\Lib\\site-packages\\pip\\_vendor\\pyproject_hooks\\_in_process\\_in_process.py\", line 353, in <module>\n",
            "          main()\n",
            "        File \"D:\\Studies\\Materials\\Second-cycle\\I year\\III trimester\\Ammagamma-Lab\\ammagamma-lab\\ag-lab\\Lib\\site-packages\\pip\\_vendor\\pyproject_hooks\\_in_process\\_in_process.py\", line 335, in main\n",
            "          json_out['return_val'] = hook(**hook_input['kwargs'])\n",
            "                                   ^^^^^^^^^^^^^^^^^^^^^^^^^^^^\n",
            "        File \"D:\\Studies\\Materials\\Second-cycle\\I year\\III trimester\\Ammagamma-Lab\\ammagamma-lab\\ag-lab\\Lib\\site-packages\\pip\\_vendor\\pyproject_hooks\\_in_process\\_in_process.py\", line 118, in get_requires_for_build_wheel\n",
            "          return hook(config_settings)\n",
            "                 ^^^^^^^^^^^^^^^^^^^^^\n",
            "        File \"C:\\Users\\Julia\\AppData\\Local\\Temp\\pip-build-env-l2w8yiai\\overlay\\Lib\\site-packages\\setuptools\\build_meta.py\", line 325, in get_requires_for_build_wheel\n",
            "          return self._get_build_requires(config_settings, requirements=['wheel'])\n",
            "                 ^^^^^^^^^^^^^^^^^^^^^^^^^^^^^^^^^^^^^^^^^^^^^^^^^^^^^^^^^^^^^^^^^\n",
            "        File \"C:\\Users\\Julia\\AppData\\Local\\Temp\\pip-build-env-l2w8yiai\\overlay\\Lib\\site-packages\\setuptools\\build_meta.py\", line 295, in _get_build_requires\n",
            "          self.run_setup()\n",
            "        File \"C:\\Users\\Julia\\AppData\\Local\\Temp\\pip-build-env-l2w8yiai\\overlay\\Lib\\site-packages\\setuptools\\build_meta.py\", line 311, in run_setup\n",
            "          exec(code, locals())\n",
            "        File \"<string>\", line 223, in <module>\n",
            "        File \"<string>\", line 209, in setup_package\n",
            "        File \"C:\\Users\\Julia\\AppData\\Local\\Temp\\pip-build-env-l2w8yiai\\overlay\\Lib\\site-packages\\Cython\\Build\\Dependencies.py\", line 1154, in cythonize\n",
            "          cythonize_one(*args)\n",
            "        File \"C:\\Users\\Julia\\AppData\\Local\\Temp\\pip-build-env-l2w8yiai\\overlay\\Lib\\site-packages\\Cython\\Build\\Dependencies.py\", line 1321, in cythonize_one\n",
            "          raise CompileError(None, pyx_file)\n",
            "      Cython.Compiler.Errors.CompileError: spacy/kb.pyx\n",
            "      [end of output]\n",
            "  \n",
            "  note: This error originates from a subprocess, and is likely not a problem with pip.\n",
            "error: subprocess-exited-with-error\n",
            "\n",
            "× Getting requirements to build wheel did not run successfully.\n",
            "│ exit code: 1\n",
            "╰─> See above for output.\n",
            "\n",
            "note: This error originates from a subprocess, and is likely not a problem with pip.\n"
          ]
        }
      ],
      "source": [
        "!pip install -U spacy-nightly --pre"
      ]
    },
    {
      "cell_type": "code",
      "execution_count": null,
      "metadata": {
        "colab": {
          "base_uri": "https://localhost:8080/"
        },
        "id": "p0O7OmXHRbaG",
        "outputId": "1ffd1aa9-24be-4817-992b-5bcc7b3246e1"
      },
      "outputs": [
        {
          "name": "stdout",
          "output_type": "stream",
          "text": [
            "\u001b[33mWARNING: Ignoring invalid distribution -pacy (/usr/local/lib/python3.10/dist-packages)\u001b[0m\u001b[33m\n",
            "\u001b[0mCollecting spacy\n",
            "  Using cached spacy-3.7.5-cp310-cp310-manylinux_2_17_x86_64.manylinux2014_x86_64.whl.metadata (27 kB)\n",
            "Requirement already satisfied: transformers in /usr/local/lib/python3.10/dist-packages (4.41.2)\n",
            "Requirement already satisfied: spacy-legacy<3.1.0,>=3.0.11 in /usr/local/lib/python3.10/dist-packages (from spacy) (3.0.12)\n",
            "Requirement already satisfied: spacy-loggers<2.0.0,>=1.0.0 in /usr/local/lib/python3.10/dist-packages (from spacy) (1.0.5)\n",
            "Requirement already satisfied: murmurhash<1.1.0,>=0.28.0 in /usr/local/lib/python3.10/dist-packages (from spacy) (1.0.10)\n",
            "Requirement already satisfied: cymem<2.1.0,>=2.0.2 in /usr/local/lib/python3.10/dist-packages (from spacy) (2.0.8)\n",
            "Requirement already satisfied: preshed<3.1.0,>=3.0.2 in /usr/local/lib/python3.10/dist-packages (from spacy) (3.0.9)\n",
            "Requirement already satisfied: thinc<8.3.0,>=8.2.2 in /usr/local/lib/python3.10/dist-packages (from spacy) (8.2.3)\n",
            "Requirement already satisfied: wasabi<1.2.0,>=0.9.1 in /usr/local/lib/python3.10/dist-packages (from spacy) (1.1.3)\n",
            "Requirement already satisfied: srsly<3.0.0,>=2.4.3 in /usr/local/lib/python3.10/dist-packages (from spacy) (2.4.8)\n",
            "Requirement already satisfied: catalogue<2.1.0,>=2.0.6 in /usr/local/lib/python3.10/dist-packages (from spacy) (2.0.10)\n",
            "Requirement already satisfied: weasel<0.5.0,>=0.1.0 in /usr/local/lib/python3.10/dist-packages (from spacy) (0.3.4)\n",
            "Requirement already satisfied: typer<1.0.0,>=0.3.0 in /usr/local/lib/python3.10/dist-packages (from spacy) (0.9.4)\n",
            "Requirement already satisfied: tqdm<5.0.0,>=4.38.0 in /usr/local/lib/python3.10/dist-packages (from spacy) (4.66.4)\n",
            "Requirement already satisfied: requests<3.0.0,>=2.13.0 in /usr/local/lib/python3.10/dist-packages (from spacy) (2.31.0)\n",
            "Requirement already satisfied: pydantic!=1.8,!=1.8.1,<3.0.0,>=1.7.4 in /usr/local/lib/python3.10/dist-packages (from spacy) (2.7.3)\n",
            "Requirement already satisfied: jinja2 in /usr/local/lib/python3.10/dist-packages (from spacy) (3.1.4)\n",
            "Requirement already satisfied: setuptools in /usr/local/lib/python3.10/dist-packages (from spacy) (70.0.0)\n",
            "Requirement already satisfied: packaging>=20.0 in /usr/local/lib/python3.10/dist-packages (from spacy) (24.0)\n",
            "Requirement already satisfied: langcodes<4.0.0,>=3.2.0 in /usr/local/lib/python3.10/dist-packages (from spacy) (3.4.0)\n",
            "Requirement already satisfied: numpy>=1.19.0 in /usr/local/lib/python3.10/dist-packages (from spacy) (1.25.2)\n",
            "Requirement already satisfied: filelock in /usr/local/lib/python3.10/dist-packages (from transformers) (3.14.0)\n",
            "Requirement already satisfied: huggingface-hub<1.0,>=0.23.0 in /usr/local/lib/python3.10/dist-packages (from transformers) (0.23.2)\n",
            "Requirement already satisfied: pyyaml>=5.1 in /usr/local/lib/python3.10/dist-packages (from transformers) (6.0.1)\n",
            "Requirement already satisfied: regex!=2019.12.17 in /usr/local/lib/python3.10/dist-packages (from transformers) (2024.5.15)\n",
            "Requirement already satisfied: tokenizers<0.20,>=0.19 in /usr/local/lib/python3.10/dist-packages (from transformers) (0.19.1)\n",
            "Requirement already satisfied: safetensors>=0.4.1 in /usr/local/lib/python3.10/dist-packages (from transformers) (0.4.3)\n",
            "Requirement already satisfied: fsspec>=2023.5.0 in /usr/local/lib/python3.10/dist-packages (from huggingface-hub<1.0,>=0.23.0->transformers) (2023.6.0)\n",
            "Requirement already satisfied: typing-extensions>=3.7.4.3 in /usr/local/lib/python3.10/dist-packages (from huggingface-hub<1.0,>=0.23.0->transformers) (4.12.1)\n",
            "Requirement already satisfied: language-data>=1.2 in /usr/local/lib/python3.10/dist-packages (from langcodes<4.0.0,>=3.2.0->spacy) (1.2.0)\n",
            "Requirement already satisfied: annotated-types>=0.4.0 in /usr/local/lib/python3.10/dist-packages (from pydantic!=1.8,!=1.8.1,<3.0.0,>=1.7.4->spacy) (0.7.0)\n",
            "Requirement already satisfied: pydantic-core==2.18.4 in /usr/local/lib/python3.10/dist-packages (from pydantic!=1.8,!=1.8.1,<3.0.0,>=1.7.4->spacy) (2.18.4)\n",
            "Requirement already satisfied: charset-normalizer<4,>=2 in /usr/local/lib/python3.10/dist-packages (from requests<3.0.0,>=2.13.0->spacy) (3.3.2)\n",
            "Requirement already satisfied: idna<4,>=2.5 in /usr/local/lib/python3.10/dist-packages (from requests<3.0.0,>=2.13.0->spacy) (3.7)\n",
            "Requirement already satisfied: urllib3<3,>=1.21.1 in /usr/local/lib/python3.10/dist-packages (from requests<3.0.0,>=2.13.0->spacy) (2.0.7)\n",
            "Requirement already satisfied: certifi>=2017.4.17 in /usr/local/lib/python3.10/dist-packages (from requests<3.0.0,>=2.13.0->spacy) (2024.6.2)\n",
            "Requirement already satisfied: blis<0.8.0,>=0.7.8 in /usr/local/lib/python3.10/dist-packages (from thinc<8.3.0,>=8.2.2->spacy) (0.7.11)\n",
            "Requirement already satisfied: confection<1.0.0,>=0.0.1 in /usr/local/lib/python3.10/dist-packages (from thinc<8.3.0,>=8.2.2->spacy) (0.1.5)\n",
            "Requirement already satisfied: click<9.0.0,>=7.1.1 in /usr/local/lib/python3.10/dist-packages (from typer<1.0.0,>=0.3.0->spacy) (8.1.7)\n",
            "Requirement already satisfied: cloudpathlib<0.17.0,>=0.7.0 in /usr/local/lib/python3.10/dist-packages (from weasel<0.5.0,>=0.1.0->spacy) (0.16.0)\n",
            "Requirement already satisfied: smart-open<7.0.0,>=5.2.1 in /usr/local/lib/python3.10/dist-packages (from weasel<0.5.0,>=0.1.0->spacy) (6.4.0)\n",
            "Requirement already satisfied: MarkupSafe>=2.0 in /usr/local/lib/python3.10/dist-packages (from jinja2->spacy) (2.1.5)\n",
            "Requirement already satisfied: marisa-trie>=0.7.7 in /usr/local/lib/python3.10/dist-packages (from language-data>=1.2->langcodes<4.0.0,>=3.2.0->spacy) (1.1.1)\n",
            "Using cached spacy-3.7.5-cp310-cp310-manylinux_2_17_x86_64.manylinux2014_x86_64.whl (6.6 MB)\n",
            "\u001b[33mWARNING: Ignoring invalid distribution -pacy (/usr/local/lib/python3.10/dist-packages)\u001b[0m\u001b[33m\n",
            "\u001b[0mInstalling collected packages: spacy\n",
            "Successfully installed spacy-3.7.5\n",
            "\u001b[33mWARNING: Running pip as the 'root' user can result in broken permissions and conflicting behaviour with the system package manager. It is recommended to use a virtual environment instead: https://pip.pypa.io/warnings/venv\u001b[0m\u001b[33m\n",
            "\u001b[0m"
          ]
        }
      ],
      "source": [
        "!pip install -U spacy transformers"
      ]
    },
    {
      "cell_type": "markdown",
      "metadata": {
        "id": "Mofd5GxBPXFa"
      },
      "source": [
        "Now that everything is set up, change working directory to the newly created directory NLP_MASTER in your Google Drive"
      ]
    },
    {
      "cell_type": "code",
      "execution_count": 7,
      "metadata": {
        "colab": {
          "base_uri": "https://localhost:8080/"
        },
        "id": "kjw_FZuXDEOy",
        "outputId": "abc7560f-6016-4187-c6c9-4abcdf77f6dc"
      },
      "outputs": [
        {
          "name": "stdout",
          "output_type": "stream",
          "text": [
            "D:\\Studies\\Materials\\Second-cycle\\I year\\III trimester\\Ammagamma-Lab\\ammagamma-lab\\part-2\n"
          ]
        },
        {
          "name": "stderr",
          "output_type": "stream",
          "text": [
            "d:\\Studies\\Materials\\Second-cycle\\I year\\III trimester\\Ammagamma-Lab\\ammagamma-lab\\ag-lab\\Lib\\site-packages\\IPython\\core\\magics\\osm.py:417: UserWarning: This is now an optional IPython functionality, setting dhist requires you to install the `pickleshare` library.\n",
            "  self.shell.db['dhist'] = compress_dhist(dhist)[-100:]\n"
          ]
        }
      ],
      "source": [
        "%cd D:/Studies/Materials/Second-cycle/I year/III trimester/Ammagamma-Lab/ammagamma-lab/part-2/"
      ]
    },
    {
      "cell_type": "markdown",
      "metadata": {
        "id": "fPlHXzyLPgSv"
      },
      "source": [
        "Clone the official projects from the Spacy Repo, you are going to start from [this one](https://github.com/explosion/projects/tree/v3/tutorials/textcat_goemotions) and adapt it to the sentiment classification of financial news headlines"
      ]
    },
    {
      "cell_type": "code",
      "execution_count": 8,
      "metadata": {
        "colab": {
          "base_uri": "https://localhost:8080/"
        },
        "id": "gTvvKjIbDfxm",
        "outputId": "a87dd807-e958-417b-b3eb-7af660bb8959"
      },
      "outputs": [
        {
          "name": "stderr",
          "output_type": "stream",
          "text": [
            "Cloning into 'spacy-projects'...\n"
          ]
        }
      ],
      "source": [
        "!git clone https://github.com/explosion/projects.git spacy-projects"
      ]
    },
    {
      "cell_type": "markdown",
      "metadata": {
        "id": "RJK3BhiXP8DT"
      },
      "source": [
        "Let's now create a subdirectory \"finance\" inside NLP_MASTER, where we are going to copy the textcat_goemotions tutorial we just cloned with git with the command above"
      ]
    },
    {
      "cell_type": "code",
      "execution_count": 9,
      "metadata": {
        "colab": {
          "base_uri": "https://localhost:8080/"
        },
        "id": "QOxbLb97D4x-",
        "outputId": "7776937c-9281-4076-ac4d-f200569c7e26"
      },
      "outputs": [],
      "source": [
        "!mkdir finance"
      ]
    },
    {
      "cell_type": "code",
      "execution_count": 10,
      "metadata": {
        "id": "MTp6GIMhDtKS"
      },
      "outputs": [
        {
          "name": "stderr",
          "output_type": "stream",
          "text": [
            "'cp' is not recognized as an internal or external command,\n",
            "operable program or batch file.\n"
          ]
        }
      ],
      "source": [
        "!cp -r spacy-projects/tutorials/textcat_goemotions/* finance/"
      ]
    },
    {
      "cell_type": "code",
      "execution_count": 12,
      "metadata": {
        "colab": {
          "base_uri": "https://localhost:8080/"
        },
        "id": "zxhHBE5tEEoQ",
        "outputId": "41b46ff3-03be-402e-8a66-8e32a468b883"
      },
      "outputs": [
        {
          "name": "stdout",
          "output_type": "stream",
          "text": [
            "D:\\Studies\\Materials\\Second-cycle\\I year\\III trimester\\Ammagamma-Lab\\ammagamma-lab\\part-2\\finance\n"
          ]
        },
        {
          "name": "stderr",
          "output_type": "stream",
          "text": [
            "d:\\Studies\\Materials\\Second-cycle\\I year\\III trimester\\Ammagamma-Lab\\ammagamma-lab\\ag-lab\\Lib\\site-packages\\IPython\\core\\magics\\osm.py:417: UserWarning: This is now an optional IPython functionality, setting dhist requires you to install the `pickleshare` library.\n",
            "  self.shell.db['dhist'] = compress_dhist(dhist)[-100:]\n"
          ]
        }
      ],
      "source": [
        "%cd D:/Studies/Materials/Second-cycle/I year/III trimester/Ammagamma-Lab/ammagamma-lab/part-2/finance"
      ]
    },
    {
      "cell_type": "markdown",
      "metadata": {
        "id": "sRzaWYD1QKfd"
      },
      "source": [
        "Spacy command line in action: now that we moved in the root directory of the project we tell Spacy to download everything the project needs in order to be run"
      ]
    },
    {
      "cell_type": "code",
      "execution_count": 13,
      "metadata": {
        "colab": {
          "base_uri": "https://localhost:8080/"
        },
        "id": "7f9FRuUTRg1c",
        "outputId": "c445a8d4-b7ba-41aa-ce85-6fe2dfbc7014"
      },
      "outputs": [
        {
          "name": "stdout",
          "output_type": "stream",
          "text": [
            "\u001b[38;5;4mℹ Fetching 4 asset(s)\u001b[0m\n",
            "\u001b[38;5;2m✔ Downloaded asset D:\\Studies\\Materials\\Second-cycle\\I year\\III\n",
            "trimester\\Ammagamma-Lab\\ammagamma-lab\\part-2\\finance\\assets\\categories.txt\u001b[0m\n",
            "\u001b[38;5;2m✔ Downloaded asset D:\\Studies\\Materials\\Second-cycle\\I year\\III\n",
            "trimester\\Ammagamma-Lab\\ammagamma-lab\\part-2\\finance\\assets\\train.tsv\u001b[0m\n",
            "\u001b[38;5;2m✔ Downloaded asset D:\\Studies\\Materials\\Second-cycle\\I year\\III\n",
            "trimester\\Ammagamma-Lab\\ammagamma-lab\\part-2\\finance\\assets\\dev.tsv\u001b[0m\n",
            "\u001b[38;5;2m✔ Downloaded asset D:\\Studies\\Materials\\Second-cycle\\I year\\III\n",
            "trimester\\Ammagamma-Lab\\ammagamma-lab\\part-2\\finance\\assets\\test.tsv\u001b[0m\n"
          ]
        }
      ],
      "source": [
        "!spacy project assets"
      ]
    },
    {
      "cell_type": "markdown",
      "metadata": {
        "id": "78DD2RmEcR2F"
      },
      "source": [
        "# Sentiment analysis: Reddit Posts Dataset"
      ]
    },
    {
      "cell_type": "markdown",
      "metadata": {
        "id": "ZPwXLgE9hv6G"
      },
      "source": [
        "*Example records [TEXT_CONTENT, EMOTION_ID, TEXT_ID]:*\n",
        "\n",
        "You can take a look at the dataset [here](https://drive.google.com/file/d/118kEBuOXikDJhlAvDVmAVxNBymtQ5MKb/view?usp=sharing)"
      ]
    },
    {
      "cell_type": "markdown",
      "metadata": {
        "id": "o4QqOVpUhtyb"
      },
      "source": [
        "*   My favourite food is anything I didn't have to cook myself.\t27\teebbqej\n",
        "*   Thank you friend\t15\teeqd04y\n",
        "*   It's crazy how far Photoshop has come. Underwater bridges?!! NEVER!!!\t7,13\tefanc6t\n",
        "\n",
        "\n",
        "Check out **assets/categories.txt** to explore the labels for this dataset. *The first row corresponds to the emotion_id 0, the second row to the emotion_id 1 and so on.*\n",
        "\n",
        "---\n",
        "\n"
      ]
    },
    {
      "cell_type": "markdown",
      "metadata": {
        "id": "ZJMuYICMaiqC"
      },
      "source": [
        "***Edit project.yml and change gpu_id from -1 to 0 in order to take advantage of the Colab GPU***"
      ]
    },
    {
      "cell_type": "markdown",
      "metadata": {
        "id": "Y96ESvsRtP2V"
      },
      "source": [
        "Let Spacy **preprocess Reddit Posts Dataset** (assets/train.tsv, assets/dev.tsv, assets/test.tsv and assets/categories.txt) and format it as it internally needs."
      ]
    },
    {
      "cell_type": "code",
      "execution_count": 94,
      "metadata": {
        "colab": {
          "base_uri": "https://localhost:8080/"
        },
        "id": "-3yma_DPSBfT",
        "outputId": "98f6f36e-1a50-4f57-995d-e92c58fcadca"
      },
      "outputs": [
        {
          "name": "stdout",
          "output_type": "stream",
          "text": [
            "\u001b[1m\n",
            "================================= preprocess =================================\u001b[0m\n",
            "Running command: 'D:\\Studies\\Materials\\Second-cycle\\I year\\III trimester\\Ammagamma-Lab\\ammagamma-lab\\ag-lab\\Scripts\\python.exe' scripts/convert_corpus.py\n"
          ]
        }
      ],
      "source": [
        "!spacy project run preprocess"
      ]
    },
    {
      "cell_type": "markdown",
      "metadata": {
        "id": "8M7Z42aexBQP"
      },
      "source": [
        "Now that the dataset has been processed, **let's train the model** on the Reddit posts!"
      ]
    },
    {
      "cell_type": "code",
      "execution_count": 95,
      "metadata": {
        "colab": {
          "base_uri": "https://localhost:8080/"
        },
        "id": "Gs2nJiMGSSkH",
        "outputId": "19b59714-8259-43c2-947d-60a614039623"
      },
      "outputs": [
        {
          "name": "stdout",
          "output_type": "stream",
          "text": [
            "\u001b[1m\n",
            "=================================== train ===================================\u001b[0m\n",
            "Running command: 'D:\\Studies\\Materials\\Second-cycle\\I year\\III trimester\\Ammagamma-Lab\\ammagamma-lab\\ag-lab\\Scripts\\python.exe' -m spacy train ./configs/cnn.cfg -o training/cnn --gpu-id -1\n",
            "\u001b[38;5;2m✔ Created output directory: training\\cnn\u001b[0m\n",
            "\u001b[38;5;4mℹ Saving to output directory: training\\cnn\u001b[0m\n",
            "\u001b[38;5;4mℹ Using CPU\u001b[0m\n",
            "\u001b[1m\n",
            "=========================== Initializing pipeline ===========================\u001b[0m\n",
            "\u001b[38;5;2m✔ Initialized pipeline\u001b[0m\n",
            "\u001b[1m\n",
            "============================= Training pipeline =============================\u001b[0m\n",
            "\u001b[38;5;4mℹ Pipeline: ['textcat']\u001b[0m\n",
            "\u001b[38;5;4mℹ Initial learn rate: 0.001\u001b[0m\n",
            "E    #       LOSS TEXTCAT  CATS_SCORE  SCORE \n",
            "---  ------  ------------  ----------  ------\n",
            "  0       0          0.29       56.14    0.56\n",
            "  4     200         14.96       91.67    0.92\n",
            "  8     400          1.99       91.46    0.91\n",
            " 12     600          0.56       90.91    0.91\n",
            " 16     800          0.19       90.53    0.91\n",
            " 20    1000          0.15       90.29    0.90\n",
            " 24    1200          0.09       90.00    0.90\n",
            " 28    1400          0.03       89.46    0.89\n",
            " 32    1600          0.01       89.14    0.89\n",
            " 36    1800          0.06       89.09    0.89\n",
            "\u001b[38;5;2m✔ Saved pipeline to output directory\u001b[0m\n",
            "training\\cnn\\model-last\n"
          ]
        }
      ],
      "source": [
        "!spacy project run train"
      ]
    },
    {
      "cell_type": "markdown",
      "metadata": {
        "id": "WrWk8jo_xKt0"
      },
      "source": [
        "Automatic SpaCy evaluation of the model you just trained"
      ]
    },
    {
      "cell_type": "code",
      "execution_count": 96,
      "metadata": {
        "colab": {
          "base_uri": "https://localhost:8080/"
        },
        "id": "vsUFT-TZWnUR",
        "outputId": "001ed6c8-4c64-441f-bcdf-27ec88bcf6de"
      },
      "outputs": [
        {
          "name": "stdout",
          "output_type": "stream",
          "text": [
            "\u001b[1m\n",
            "================================== evaluate ==================================\u001b[0m\n",
            "Running command: 'D:\\Studies\\Materials\\Second-cycle\\I year\\III trimester\\Ammagamma-Lab\\ammagamma-lab\\ag-lab\\Scripts\\python.exe' -m spacy evaluate ./training/cnn/model-best ./corpus/test.spacy --output ./metrics/cnn.json\n",
            "\u001b[38;5;4mℹ Using CPU\u001b[0m\n",
            "\u001b[1m\n",
            "================================== Results ==================================\u001b[0m\n",
            "\n",
            "TOK                   100.00\n",
            "TEXTCAT (macro AUC)   94.66 \n",
            "SPEED                 34088 \n",
            "\n",
            "\u001b[1m\n",
            "=========================== Textcat F (per label) ===========================\u001b[0m\n",
            "\n",
            "               P       R       F\n",
            "negative   78.26   58.06   66.67\n",
            "neutral    91.87   93.53   92.69\n",
            "positive   77.98   75.22   76.58\n",
            "\n",
            "\u001b[1m\n",
            "======================== Textcat ROC AUC (per label) ========================\u001b[0m\n",
            "\n",
            "           ROC AUC\n",
            "negative      0.94\n",
            "neutral       0.96\n",
            "positive      0.94\n",
            "\n",
            "\u001b[38;5;2m✔ Saved results to metrics\\cnn.json\u001b[0m\n"
          ]
        }
      ],
      "source": [
        "!spacy project run evaluate"
      ]
    },
    {
      "cell_type": "markdown",
      "metadata": {
        "id": "GvPLr4kjmevs"
      },
      "source": [
        "Let's test the model on some examples, **feel free to change them to whatever you want**!"
      ]
    },
    {
      "cell_type": "code",
      "execution_count": 97,
      "metadata": {
        "colab": {
          "base_uri": "https://localhost:8080/"
        },
        "id": "tP9ZWIoJXGmy",
        "outputId": "c7678ed4-3a11-4139-f6e1-209aa03561a3"
      },
      "outputs": [
        {
          "name": "stdout",
          "output_type": "stream",
          "text": [
            "{'negative': 0.014287855476140976, 'neutral': 0.00033995325793512166, 'positive': 0.9957192540168762}\n",
            "{'negative': 0.006180028896778822, 'neutral': 0.9795616865158081, 'positive': 0.007705033291131258}\n"
          ]
        }
      ],
      "source": [
        "import spacy\n",
        "nlp = spacy.load(\"./training/cnn/model-best\")\n",
        "\n",
        "texts = [\n",
        "    \"Operating profit totalled EUR 21.1 mn , up from EUR 18.6 mn in 2007 , representing 9.7 % of net sale\",\n",
        "    \"Nokia Messaging 1.1 enables customers to receive e-mails from up to 10 e-mail accounts on their mobile phone supporting all POP or IMAP e-mail services\",\n",
        "]\n",
        "\n",
        "for doc in nlp.pipe(texts):\n",
        "    # Do something with the doc here\n",
        "    print(doc.cats)"
      ]
    },
    {
      "cell_type": "markdown",
      "metadata": {
        "id": "icfgI4EuxGNO"
      },
      "source": [
        "#Data Preparation: from the Reddit Post Dataset to the Financial News Dataset\n",
        "**TODO: Upload Financial News Dataset file FinancialPhraseBank_AllAgree.txt to the assets folder, you can find the dataset [here](https://drive.google.com/file/d/1WXM2t8sh-myIEUZt37zIXC2McNrCyS2l/view?usp=sharing)**\\\n",
        "Financial news dataset example records [TEXT_CONTENT, SENTIMENT_LABEL]:\n",
        "\n",
        "\n",
        "*   According to Gran , the company has no plans to move all production to Russia , although that is where the company is growing .@neutral\n",
        "*   Finnish Talentum reports its operating profit increased to EUR 20.5 mn in 2005 from EUR 9.3 mn in 2004 , and net sales totaled EUR 103.3 mn , up from EUR 96.4 mn .@positive\n",
        "*   Pharmaceuticals group Orion Corp reported a fall in its third-quarter earnings that were hit by larger expenditures on R&D and marketing .@negative\n",
        "\n",
        "\n",
        "\n",
        "---\n",
        "\n",
        "Now you have to **format the Financial News Dataset like the Reddit Posts Dataset**, in order to retrain the sentiment classifier on the new financial dataset.\n",
        "\n",
        "Remember to split the dataset into train (70%), validation (10%) and test (20%), **saving the respective TSV files (train.tsv, dev.tsv, test.tsv) in the asset folder** .\n",
        "\n"
      ]
    },
    {
      "cell_type": "code",
      "execution_count": 40,
      "metadata": {},
      "outputs": [
        {
          "data": {
            "text/html": [
              "<div>\n",
              "<style scoped>\n",
              "    .dataframe tbody tr th:only-of-type {\n",
              "        vertical-align: middle;\n",
              "    }\n",
              "\n",
              "    .dataframe tbody tr th {\n",
              "        vertical-align: top;\n",
              "    }\n",
              "\n",
              "    .dataframe thead th {\n",
              "        text-align: right;\n",
              "    }\n",
              "</style>\n",
              "<table border=\"1\" class=\"dataframe\">\n",
              "  <thead>\n",
              "    <tr style=\"text-align: right;\">\n",
              "      <th></th>\n",
              "      <th>text</th>\n",
              "      <th>sentiment</th>\n",
              "    </tr>\n",
              "  </thead>\n",
              "  <tbody>\n",
              "    <tr>\n",
              "      <th>0</th>\n",
              "      <td>According to Gran , the company has no plans t...</td>\n",
              "      <td>neutral</td>\n",
              "    </tr>\n",
              "    <tr>\n",
              "      <th>1</th>\n",
              "      <td>For the last quarter of 2010 , Componenta 's n...</td>\n",
              "      <td>positive</td>\n",
              "    </tr>\n",
              "    <tr>\n",
              "      <th>2</th>\n",
              "      <td>In the third quarter of 2010 , net sales incre...</td>\n",
              "      <td>positive</td>\n",
              "    </tr>\n",
              "    <tr>\n",
              "      <th>3</th>\n",
              "      <td>Operating profit rose to EUR 13.1 mn from EUR ...</td>\n",
              "      <td>positive</td>\n",
              "    </tr>\n",
              "    <tr>\n",
              "      <th>4</th>\n",
              "      <td>Operating profit totalled EUR 21.1 mn , up fro...</td>\n",
              "      <td>positive</td>\n",
              "    </tr>\n",
              "    <tr>\n",
              "      <th>...</th>\n",
              "      <td>...</td>\n",
              "      <td>...</td>\n",
              "    </tr>\n",
              "    <tr>\n",
              "      <th>2259</th>\n",
              "      <td>Operating result for the 12-month period decre...</td>\n",
              "      <td>negative</td>\n",
              "    </tr>\n",
              "    <tr>\n",
              "      <th>2260</th>\n",
              "      <td>HELSINKI Thomson Financial - Shares in Cargote...</td>\n",
              "      <td>negative</td>\n",
              "    </tr>\n",
              "    <tr>\n",
              "      <th>2261</th>\n",
              "      <td>LONDON MarketWatch -- Share prices ended lower...</td>\n",
              "      <td>negative</td>\n",
              "    </tr>\n",
              "    <tr>\n",
              "      <th>2262</th>\n",
              "      <td>Operating profit fell to EUR 35.4 mn from EUR ...</td>\n",
              "      <td>negative</td>\n",
              "    </tr>\n",
              "    <tr>\n",
              "      <th>2263</th>\n",
              "      <td>Sales in Finland decreased by 10.5 % in Januar...</td>\n",
              "      <td>negative</td>\n",
              "    </tr>\n",
              "  </tbody>\n",
              "</table>\n",
              "<p>2264 rows × 2 columns</p>\n",
              "</div>"
            ],
            "text/plain": [
              "                                                   text sentiment\n",
              "0     According to Gran , the company has no plans t...   neutral\n",
              "1     For the last quarter of 2010 , Componenta 's n...  positive\n",
              "2     In the third quarter of 2010 , net sales incre...  positive\n",
              "3     Operating profit rose to EUR 13.1 mn from EUR ...  positive\n",
              "4     Operating profit totalled EUR 21.1 mn , up fro...  positive\n",
              "...                                                 ...       ...\n",
              "2259  Operating result for the 12-month period decre...  negative\n",
              "2260  HELSINKI Thomson Financial - Shares in Cargote...  negative\n",
              "2261  LONDON MarketWatch -- Share prices ended lower...  negative\n",
              "2262  Operating profit fell to EUR 35.4 mn from EUR ...  negative\n",
              "2263  Sales in Finland decreased by 10.5 % in Januar...  negative\n",
              "\n",
              "[2264 rows x 2 columns]"
            ]
          },
          "execution_count": 40,
          "metadata": {},
          "output_type": "execute_result"
        }
      ],
      "source": [
        "text_file = open('D:/Studies/Materials/Second-cycle/I year/III trimester/Ammagamma-Lab/ammagamma-lab/part-2/FinancialPhraseBank_AllAgree.txt','r')\n",
        "news = text_file.read().split('\\n')\n",
        "news\n",
        "\n",
        "import pandas as pd\n",
        "news_df = pd.DataFrame(news, columns=['text'])\n",
        "news_df\n",
        "\n",
        "news_df[['text', 'sentiment']] = news_df['text'].str.split('@', expand=True)\n",
        "news_df = news_df.iloc[:2264, :]\n",
        "news_df"
      ]
    },
    {
      "cell_type": "code",
      "execution_count": 41,
      "metadata": {},
      "outputs": [
        {
          "data": {
            "text/plain": [
              "array(['neutral', 'positive', 'negative'], dtype=object)"
            ]
          },
          "execution_count": 41,
          "metadata": {},
          "output_type": "execute_result"
        }
      ],
      "source": [
        "# What are the unique 'sentiment' values?\n",
        "news_df['sentiment'].unique()"
      ]
    },
    {
      "cell_type": "code",
      "execution_count": 46,
      "metadata": {},
      "outputs": [
        {
          "data": {
            "text/html": [
              "<div>\n",
              "<style scoped>\n",
              "    .dataframe tbody tr th:only-of-type {\n",
              "        vertical-align: middle;\n",
              "    }\n",
              "\n",
              "    .dataframe tbody tr th {\n",
              "        vertical-align: top;\n",
              "    }\n",
              "\n",
              "    .dataframe thead th {\n",
              "        text-align: right;\n",
              "    }\n",
              "</style>\n",
              "<table border=\"1\" class=\"dataframe\">\n",
              "  <thead>\n",
              "    <tr style=\"text-align: right;\">\n",
              "      <th></th>\n",
              "      <th>text</th>\n",
              "      <th>sentiment_id</th>\n",
              "      <th>text_id</th>\n",
              "    </tr>\n",
              "  </thead>\n",
              "  <tbody>\n",
              "    <tr>\n",
              "      <th>0</th>\n",
              "      <td>According to Gran , the company has no plans t...</td>\n",
              "      <td>1</td>\n",
              "      <td>T0</td>\n",
              "    </tr>\n",
              "    <tr>\n",
              "      <th>1</th>\n",
              "      <td>For the last quarter of 2010 , Componenta 's n...</td>\n",
              "      <td>2</td>\n",
              "      <td>T1</td>\n",
              "    </tr>\n",
              "    <tr>\n",
              "      <th>2</th>\n",
              "      <td>In the third quarter of 2010 , net sales incre...</td>\n",
              "      <td>2</td>\n",
              "      <td>T2</td>\n",
              "    </tr>\n",
              "    <tr>\n",
              "      <th>3</th>\n",
              "      <td>Operating profit rose to EUR 13.1 mn from EUR ...</td>\n",
              "      <td>2</td>\n",
              "      <td>T3</td>\n",
              "    </tr>\n",
              "    <tr>\n",
              "      <th>4</th>\n",
              "      <td>Operating profit totalled EUR 21.1 mn , up fro...</td>\n",
              "      <td>2</td>\n",
              "      <td>T4</td>\n",
              "    </tr>\n",
              "    <tr>\n",
              "      <th>...</th>\n",
              "      <td>...</td>\n",
              "      <td>...</td>\n",
              "      <td>...</td>\n",
              "    </tr>\n",
              "    <tr>\n",
              "      <th>2259</th>\n",
              "      <td>Operating result for the 12-month period decre...</td>\n",
              "      <td>0</td>\n",
              "      <td>T2259</td>\n",
              "    </tr>\n",
              "    <tr>\n",
              "      <th>2260</th>\n",
              "      <td>HELSINKI Thomson Financial - Shares in Cargote...</td>\n",
              "      <td>0</td>\n",
              "      <td>T2260</td>\n",
              "    </tr>\n",
              "    <tr>\n",
              "      <th>2261</th>\n",
              "      <td>LONDON MarketWatch -- Share prices ended lower...</td>\n",
              "      <td>0</td>\n",
              "      <td>T2261</td>\n",
              "    </tr>\n",
              "    <tr>\n",
              "      <th>2262</th>\n",
              "      <td>Operating profit fell to EUR 35.4 mn from EUR ...</td>\n",
              "      <td>0</td>\n",
              "      <td>T2262</td>\n",
              "    </tr>\n",
              "    <tr>\n",
              "      <th>2263</th>\n",
              "      <td>Sales in Finland decreased by 10.5 % in Januar...</td>\n",
              "      <td>0</td>\n",
              "      <td>T2263</td>\n",
              "    </tr>\n",
              "  </tbody>\n",
              "</table>\n",
              "<p>2264 rows × 3 columns</p>\n",
              "</div>"
            ],
            "text/plain": [
              "                                                   text  sentiment_id text_id\n",
              "0     According to Gran , the company has no plans t...             1      T0\n",
              "1     For the last quarter of 2010 , Componenta 's n...             2      T1\n",
              "2     In the third quarter of 2010 , net sales incre...             2      T2\n",
              "3     Operating profit rose to EUR 13.1 mn from EUR ...             2      T3\n",
              "4     Operating profit totalled EUR 21.1 mn , up fro...             2      T4\n",
              "...                                                 ...           ...     ...\n",
              "2259  Operating result for the 12-month period decre...             0   T2259\n",
              "2260  HELSINKI Thomson Financial - Shares in Cargote...             0   T2260\n",
              "2261  LONDON MarketWatch -- Share prices ended lower...             0   T2261\n",
              "2262  Operating profit fell to EUR 35.4 mn from EUR ...             0   T2262\n",
              "2263  Sales in Finland decreased by 10.5 % in Januar...             0   T2263\n",
              "\n",
              "[2264 rows x 3 columns]"
            ]
          },
          "execution_count": 46,
          "metadata": {},
          "output_type": "execute_result"
        }
      ],
      "source": [
        "news_df['sentiment_id'] = news_df['sentiment'].apply(lambda x: 0 if x == 'negative' else (1 if x == 'neutral' else 2))\n",
        "news_df['text_id'] = news_df.index\n",
        "news_df['text_id'] = \"T\" + news_df['text_id'].astype(str)\n",
        "news_df = news_df[['text', 'sentiment_id', 'text_id']]\n",
        "news_df"
      ]
    },
    {
      "cell_type": "code",
      "execution_count": 92,
      "metadata": {},
      "outputs": [],
      "source": [
        "news_df_1 = news_df.sample(frac=1) # Shuffle the data\n",
        "\n",
        "train_ratio = 0.7 # Define size of the training set\n",
        " \n",
        "total_rows = news_df_1.shape[0]\n",
        "train_end = int(total_rows*train_ratio)\n",
        "\n",
        "train = news_df_1[:train_end] # Training set\n",
        "remaining = news_df_1[train_end:]\n",
        "\n",
        "test_ratio = 2/3 # Define size of the test set\n",
        "\n",
        "remaining_rows = remaining.shape[0]\n",
        "test_end = int(remaining_rows*test_ratio)\n",
        "\n",
        "test = remaining[:test_end] # Test set\n",
        "val = remaining[test_end:] # Validation set\n",
        "\n",
        "train.to_csv('D:/Studies/Materials/Second-cycle/I year/III trimester/Ammagamma-Lab/ammagamma-lab/part-2/train.tsv', sep='\\t', index=False, header=False)\n",
        "test.to_csv('D:/Studies/Materials/Second-cycle/I year/III trimester/Ammagamma-Lab/ammagamma-lab/part-2/test.tsv', sep='\\t', index=False, header=False)\n",
        "val.to_csv('D:/Studies/Materials/Second-cycle/I year/III trimester/Ammagamma-Lab/ammagamma-lab/part-2/val.tsv', sep='\\t', index=False, header=False)"
      ]
    },
    {
      "cell_type": "code",
      "execution_count": 110,
      "metadata": {},
      "outputs": [
        {
          "data": {
            "text/html": [
              "<div>\n",
              "<style scoped>\n",
              "    .dataframe tbody tr th:only-of-type {\n",
              "        vertical-align: middle;\n",
              "    }\n",
              "\n",
              "    .dataframe tbody tr th {\n",
              "        vertical-align: top;\n",
              "    }\n",
              "\n",
              "    .dataframe thead th {\n",
              "        text-align: right;\n",
              "    }\n",
              "</style>\n",
              "<table border=\"1\" class=\"dataframe\">\n",
              "  <thead>\n",
              "    <tr style=\"text-align: right;\">\n",
              "      <th></th>\n",
              "      <th>txt</th>\n",
              "      <th>date</th>\n",
              "    </tr>\n",
              "  </thead>\n",
              "  <tbody>\n",
              "    <tr>\n",
              "      <th>0</th>\n",
              "      <td>\\nBrent Oil - Oil settles up more than US$2 de...</td>\n",
              "      <td>02-04-2021 02:48</td>\n",
              "    </tr>\n",
              "    <tr>\n",
              "      <th>1</th>\n",
              "      <td>\\nSilver Price - Silver Bull Announces Private...</td>\n",
              "      <td>01-04-2021 03:17</td>\n",
              "    </tr>\n",
              "    <tr>\n",
              "      <th>2</th>\n",
              "      <td>\\nEURGBP - GLOBAL MARKETS-U.S. spending boom o...</td>\n",
              "      <td>01-04-2021 02:31</td>\n",
              "    </tr>\n",
              "    <tr>\n",
              "      <th>3</th>\n",
              "      <td>\\nEURUSD - Market Outlook for Q2 2021\\n\\t\\t\\tI...</td>\n",
              "      <td>31-03-2021 03:07</td>\n",
              "    </tr>\n",
              "    <tr>\n",
              "      <th>4</th>\n",
              "      <td>\\nCommodities Prices - Commodities Corner: Coc...</td>\n",
              "      <td>31-03-2021 02:59</td>\n",
              "    </tr>\n",
              "    <tr>\n",
              "      <th>...</th>\n",
              "      <td>...</td>\n",
              "      <td>...</td>\n",
              "    </tr>\n",
              "    <tr>\n",
              "      <th>1651</th>\n",
              "      <td>\\nEURGBP - GLOBAL MARKETS-U.S. spending boom o...</td>\n",
              "      <td>01-04-2021 02:31</td>\n",
              "    </tr>\n",
              "    <tr>\n",
              "      <th>1652</th>\n",
              "      <td>\\nEURUSD - Market Outlook for Q2 2021\\n\\t\\t\\tI...</td>\n",
              "      <td>31-03-2021 03:07</td>\n",
              "    </tr>\n",
              "    <tr>\n",
              "      <th>1653</th>\n",
              "      <td>\\nCommodities Prices - Commodities Corner: Coc...</td>\n",
              "      <td>31-03-2021 02:59</td>\n",
              "    </tr>\n",
              "    <tr>\n",
              "      <th>1654</th>\n",
              "      <td>\\nCrude Oil - Crude Oil Market 2021 Global Out...</td>\n",
              "      <td>30-03-2021 02:40</td>\n",
              "    </tr>\n",
              "    <tr>\n",
              "      <th>1655</th>\n",
              "      <td>\\nEURGBP - GBP/USD keeps bears in control\\n\\t\\...</td>\n",
              "      <td>30-03-2021 00:19</td>\n",
              "    </tr>\n",
              "  </tbody>\n",
              "</table>\n",
              "<p>2160 rows × 2 columns</p>\n",
              "</div>"
            ],
            "text/plain": [
              "                                                    txt              date\n",
              "0     \\nBrent Oil - Oil settles up more than US$2 de...  02-04-2021 02:48\n",
              "1     \\nSilver Price - Silver Bull Announces Private...  01-04-2021 03:17\n",
              "2     \\nEURGBP - GLOBAL MARKETS-U.S. spending boom o...  01-04-2021 02:31\n",
              "3     \\nEURUSD - Market Outlook for Q2 2021\\n\\t\\t\\tI...  31-03-2021 03:07\n",
              "4     \\nCommodities Prices - Commodities Corner: Coc...  31-03-2021 02:59\n",
              "...                                                 ...               ...\n",
              "1651  \\nEURGBP - GLOBAL MARKETS-U.S. spending boom o...  01-04-2021 02:31\n",
              "1652  \\nEURUSD - Market Outlook for Q2 2021\\n\\t\\t\\tI...  31-03-2021 03:07\n",
              "1653  \\nCommodities Prices - Commodities Corner: Coc...  31-03-2021 02:59\n",
              "1654  \\nCrude Oil - Crude Oil Market 2021 Global Out...  30-03-2021 02:40\n",
              "1655  \\nEURGBP - GBP/USD keeps bears in control\\n\\t\\...  30-03-2021 00:19\n",
              "\n",
              "[2160 rows x 2 columns]"
            ]
          },
          "execution_count": 110,
          "metadata": {},
          "output_type": "execute_result"
        }
      ],
      "source": [
        "# Load the scraped data\n",
        "new_data_1 = pd.read_csv('D:/Studies/Materials/Second-cycle/I year/III trimester/Ammagamma-Lab/ammagamma-lab/part-2/hist_fx_09_04_2020_02_04_2021.csv')\n",
        "new_data_2 = pd.read_csv('D:/Studies/Materials/Second-cycle/I year/III trimester/Ammagamma-Lab/ammagamma-lab/part-2/hist_fx_30_03_2021_05_06_2024.csv')\n",
        "\n",
        "new_data = pd.concat([new_data_1, new_data_2])[['txt', 'date']]\n",
        "new_data"
      ]
    },
    {
      "cell_type": "code",
      "execution_count": 150,
      "metadata": {},
      "outputs": [
        {
          "data": {
            "text/html": [
              "<div>\n",
              "<style scoped>\n",
              "    .dataframe tbody tr th:only-of-type {\n",
              "        vertical-align: middle;\n",
              "    }\n",
              "\n",
              "    .dataframe tbody tr th {\n",
              "        vertical-align: top;\n",
              "    }\n",
              "\n",
              "    .dataframe thead th {\n",
              "        text-align: right;\n",
              "    }\n",
              "</style>\n",
              "<table border=\"1\" class=\"dataframe\">\n",
              "  <thead>\n",
              "    <tr style=\"text-align: right;\">\n",
              "      <th></th>\n",
              "      <th>txt</th>\n",
              "      <th>date</th>\n",
              "      <th>sentiment</th>\n",
              "      <th>relevant</th>\n",
              "    </tr>\n",
              "  </thead>\n",
              "  <tbody>\n",
              "    <tr>\n",
              "      <th>0</th>\n",
              "      <td>\\nBrent Oil - Oil settles up more than US$2 de...</td>\n",
              "      <td>02-04-2021 02:48</td>\n",
              "      <td>negative</td>\n",
              "      <td>0</td>\n",
              "    </tr>\n",
              "    <tr>\n",
              "      <th>1</th>\n",
              "      <td>\\nSilver Price - Silver Bull Announces Private...</td>\n",
              "      <td>01-04-2021 03:17</td>\n",
              "      <td>neutral</td>\n",
              "      <td>0</td>\n",
              "    </tr>\n",
              "    <tr>\n",
              "      <th>2</th>\n",
              "      <td>\\nEURGBP - GLOBAL MARKETS-U.S. spending boom o...</td>\n",
              "      <td>01-04-2021 02:31</td>\n",
              "      <td>neutral</td>\n",
              "      <td>0</td>\n",
              "    </tr>\n",
              "    <tr>\n",
              "      <th>3</th>\n",
              "      <td>\\nEURUSD - Market Outlook for Q2 2021\\n\\t\\t\\tI...</td>\n",
              "      <td>31-03-2021 03:07</td>\n",
              "      <td>neutral</td>\n",
              "      <td>1</td>\n",
              "    </tr>\n",
              "    <tr>\n",
              "      <th>4</th>\n",
              "      <td>\\nCommodities Prices - Commodities Corner: Coc...</td>\n",
              "      <td>31-03-2021 02:59</td>\n",
              "      <td>neutral</td>\n",
              "      <td>0</td>\n",
              "    </tr>\n",
              "    <tr>\n",
              "      <th>...</th>\n",
              "      <td>...</td>\n",
              "      <td>...</td>\n",
              "      <td>...</td>\n",
              "      <td>...</td>\n",
              "    </tr>\n",
              "    <tr>\n",
              "      <th>1651</th>\n",
              "      <td>\\nEURGBP - GLOBAL MARKETS-U.S. spending boom o...</td>\n",
              "      <td>01-04-2021 02:31</td>\n",
              "      <td>neutral</td>\n",
              "      <td>0</td>\n",
              "    </tr>\n",
              "    <tr>\n",
              "      <th>1652</th>\n",
              "      <td>\\nEURUSD - Market Outlook for Q2 2021\\n\\t\\t\\tI...</td>\n",
              "      <td>31-03-2021 03:07</td>\n",
              "      <td>neutral</td>\n",
              "      <td>1</td>\n",
              "    </tr>\n",
              "    <tr>\n",
              "      <th>1653</th>\n",
              "      <td>\\nCommodities Prices - Commodities Corner: Coc...</td>\n",
              "      <td>31-03-2021 02:59</td>\n",
              "      <td>neutral</td>\n",
              "      <td>0</td>\n",
              "    </tr>\n",
              "    <tr>\n",
              "      <th>1654</th>\n",
              "      <td>\\nCrude Oil - Crude Oil Market 2021 Global Out...</td>\n",
              "      <td>30-03-2021 02:40</td>\n",
              "      <td>neutral</td>\n",
              "      <td>0</td>\n",
              "    </tr>\n",
              "    <tr>\n",
              "      <th>1655</th>\n",
              "      <td>\\nEURGBP - GBP/USD keeps bears in control\\n\\t\\...</td>\n",
              "      <td>30-03-2021 00:19</td>\n",
              "      <td>neutral</td>\n",
              "      <td>0</td>\n",
              "    </tr>\n",
              "  </tbody>\n",
              "</table>\n",
              "<p>2160 rows × 4 columns</p>\n",
              "</div>"
            ],
            "text/plain": [
              "                                                    txt              date  \\\n",
              "0     \\nBrent Oil - Oil settles up more than US$2 de...  02-04-2021 02:48   \n",
              "1     \\nSilver Price - Silver Bull Announces Private...  01-04-2021 03:17   \n",
              "2     \\nEURGBP - GLOBAL MARKETS-U.S. spending boom o...  01-04-2021 02:31   \n",
              "3     \\nEURUSD - Market Outlook for Q2 2021\\n\\t\\t\\tI...  31-03-2021 03:07   \n",
              "4     \\nCommodities Prices - Commodities Corner: Coc...  31-03-2021 02:59   \n",
              "...                                                 ...               ...   \n",
              "1651  \\nEURGBP - GLOBAL MARKETS-U.S. spending boom o...  01-04-2021 02:31   \n",
              "1652  \\nEURUSD - Market Outlook for Q2 2021\\n\\t\\t\\tI...  31-03-2021 03:07   \n",
              "1653  \\nCommodities Prices - Commodities Corner: Coc...  31-03-2021 02:59   \n",
              "1654  \\nCrude Oil - Crude Oil Market 2021 Global Out...  30-03-2021 02:40   \n",
              "1655  \\nEURGBP - GBP/USD keeps bears in control\\n\\t\\...  30-03-2021 00:19   \n",
              "\n",
              "     sentiment  relevant  \n",
              "0     negative         0  \n",
              "1      neutral         0  \n",
              "2      neutral         0  \n",
              "3      neutral         1  \n",
              "4      neutral         0  \n",
              "...        ...       ...  \n",
              "1651   neutral         0  \n",
              "1652   neutral         1  \n",
              "1653   neutral         0  \n",
              "1654   neutral         0  \n",
              "1655   neutral         0  \n",
              "\n",
              "[2160 rows x 4 columns]"
            ]
          },
          "execution_count": 150,
          "metadata": {},
          "output_type": "execute_result"
        }
      ],
      "source": [
        "# Preprocess the data and predict the sentiment\n",
        "cats = []\n",
        "for doc in nlp.pipe(new_data['txt']):\n",
        "    cats.append(doc.cats)\n",
        "\n",
        "new_data['sentiment'] = cats\n",
        "\n",
        "def get_max_key(d):\n",
        "    return max(d, key=d.get)\n",
        "\n",
        "new_data['sentiment'] = new_data['sentiment'].apply(get_max_key)\n",
        "new_data"
      ]
    },
    {
      "cell_type": "code",
      "execution_count": 158,
      "metadata": {},
      "outputs": [
        {
          "data": {
            "text/plain": [
              "sentiment\n",
              "negative     152\n",
              "neutral     1805\n",
              "positive     203\n",
              "dtype: int64"
            ]
          },
          "execution_count": 158,
          "metadata": {},
          "output_type": "execute_result"
        }
      ],
      "source": [
        "new_data.groupby('sentiment').size()"
      ]
    },
    {
      "cell_type": "code",
      "execution_count": 153,
      "metadata": {},
      "outputs": [
        {
          "data": {
            "text/html": [
              "<div>\n",
              "<style scoped>\n",
              "    .dataframe tbody tr th:only-of-type {\n",
              "        vertical-align: middle;\n",
              "    }\n",
              "\n",
              "    .dataframe tbody tr th {\n",
              "        vertical-align: top;\n",
              "    }\n",
              "\n",
              "    .dataframe thead th {\n",
              "        text-align: right;\n",
              "    }\n",
              "</style>\n",
              "<table border=\"1\" class=\"dataframe\">\n",
              "  <thead>\n",
              "    <tr style=\"text-align: right;\">\n",
              "      <th></th>\n",
              "      <th>date</th>\n",
              "      <th>sentiment</th>\n",
              "    </tr>\n",
              "  </thead>\n",
              "  <tbody>\n",
              "    <tr>\n",
              "      <th>3</th>\n",
              "      <td>2021-03-31</td>\n",
              "      <td>neutral</td>\n",
              "    </tr>\n",
              "    <tr>\n",
              "      <th>12</th>\n",
              "      <td>2021-03-25</td>\n",
              "      <td>neutral</td>\n",
              "    </tr>\n",
              "    <tr>\n",
              "      <th>20</th>\n",
              "      <td>2021-03-19</td>\n",
              "      <td>neutral</td>\n",
              "    </tr>\n",
              "    <tr>\n",
              "      <th>29</th>\n",
              "      <td>2021-03-12</td>\n",
              "      <td>neutral</td>\n",
              "    </tr>\n",
              "    <tr>\n",
              "      <th>33</th>\n",
              "      <td>2021-03-10</td>\n",
              "      <td>neutral</td>\n",
              "    </tr>\n",
              "    <tr>\n",
              "      <th>...</th>\n",
              "      <td>...</td>\n",
              "      <td>...</td>\n",
              "    </tr>\n",
              "    <tr>\n",
              "      <th>1623</th>\n",
              "      <td>2021-04-22</td>\n",
              "      <td>neutral</td>\n",
              "    </tr>\n",
              "    <tr>\n",
              "      <th>1633</th>\n",
              "      <td>2021-04-15</td>\n",
              "      <td>neutral</td>\n",
              "    </tr>\n",
              "    <tr>\n",
              "      <th>1638</th>\n",
              "      <td>2021-04-12</td>\n",
              "      <td>neutral</td>\n",
              "    </tr>\n",
              "    <tr>\n",
              "      <th>1645</th>\n",
              "      <td>2021-04-06</td>\n",
              "      <td>neutral</td>\n",
              "    </tr>\n",
              "    <tr>\n",
              "      <th>1652</th>\n",
              "      <td>2021-03-31</td>\n",
              "      <td>neutral</td>\n",
              "    </tr>\n",
              "  </tbody>\n",
              "</table>\n",
              "<p>219 rows × 2 columns</p>\n",
              "</div>"
            ],
            "text/plain": [
              "            date sentiment\n",
              "3     2021-03-31   neutral\n",
              "12    2021-03-25   neutral\n",
              "20    2021-03-19   neutral\n",
              "29    2021-03-12   neutral\n",
              "33    2021-03-10   neutral\n",
              "...          ...       ...\n",
              "1623  2021-04-22   neutral\n",
              "1633  2021-04-15   neutral\n",
              "1638  2021-04-12   neutral\n",
              "1645  2021-04-06   neutral\n",
              "1652  2021-03-31   neutral\n",
              "\n",
              "[219 rows x 2 columns]"
            ]
          },
          "execution_count": 153,
          "metadata": {},
          "output_type": "execute_result"
        }
      ],
      "source": [
        "# Mark only the relevant news\n",
        "new_data['relevant'] = new_data['txt'].apply(lambda x: 1 if 'EURUSD' in x else 0)\n",
        "new_data\n",
        "\n",
        "new_data_1 = new_data[new_data['relevant'] == 1]\n",
        "new_data_1 = new_data_1.iloc[:, 1:3]\n",
        "new_data_1['date'] = new_data_1['date'].str.split().apply(lambda x: x[0])\n",
        "\n",
        "def invert_date(date_string):\n",
        "    day, month, year = date_string.split(\"-\")\n",
        "    return f\"{year}-{month}-{day}\"\n",
        "\n",
        "new_data_1['date'] = new_data_1['date'].apply(invert_date)\n",
        "new_data_1"
      ]
    },
    {
      "cell_type": "code",
      "execution_count": 156,
      "metadata": {},
      "outputs": [],
      "source": [
        "new_data_1.to_csv('D:/Studies/Materials/Second-cycle/I year/III trimester/Ammagamma-Lab/ammagamma-lab/part-2/new_data.csv', index=False)"
      ]
    },
    {
      "cell_type": "code",
      "execution_count": null,
      "metadata": {},
      "outputs": [],
      "source": []
    }
  ],
  "metadata": {
    "accelerator": "GPU",
    "colab": {
      "provenance": []
    },
    "kernelspec": {
      "display_name": "Python 3",
      "name": "python3"
    },
    "language_info": {
      "codemirror_mode": {
        "name": "ipython",
        "version": 3
      },
      "file_extension": ".py",
      "mimetype": "text/x-python",
      "name": "python",
      "nbconvert_exporter": "python",
      "pygments_lexer": "ipython3",
      "version": "3.11.6"
    }
  },
  "nbformat": 4,
  "nbformat_minor": 0
}
