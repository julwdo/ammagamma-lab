{
  "nbformat": 4,
  "nbformat_minor": 0,
  "metadata": {
    "colab": {
      "provenance": []
    },
    "kernelspec": {
      "name": "python3",
      "display_name": "Python 3"
    },
    "language_info": {
      "name": "python"
    },
    "accelerator": "GPU"
  },
  "cells": [
    {
      "cell_type": "markdown",
      "metadata": {
        "id": "It0VEd1nm_ss"
      },
      "source": [
        "# Boring stuff: setting everything up\n",
        "\n",
        "*Warning: run this section only once*"
      ]
    },
    {
      "cell_type": "markdown",
      "metadata": {
        "id": "sLdduGRqOTkt"
      },
      "source": [
        "Connect to your Google Drive so that your work does not get lost when you end your session"
      ]
    },
    {
      "cell_type": "code",
      "metadata": {
        "colab": {
          "base_uri": "https://localhost:8080/"
        },
        "id": "nyDyIrpcOxAp",
        "outputId": "0caccd29-8e3c-4cb6-dca7-2dcf6ef6165c"
      },
      "source": [
        "from google.colab import drive\n",
        "drive.mount('/content/drive')"
      ],
      "execution_count": null,
      "outputs": [
        {
          "output_type": "stream",
          "name": "stdout",
          "text": [
            "Mounted at /content/drive\n"
          ]
        }
      ]
    },
    {
      "cell_type": "markdown",
      "metadata": {
        "id": "GDkZGzNFO86-"
      },
      "source": [
        "Change working directory to your Google Drive"
      ]
    },
    {
      "cell_type": "code",
      "metadata": {
        "colab": {
          "base_uri": "https://localhost:8080/"
        },
        "id": "5IQIWvXAnbHJ",
        "outputId": "11467883-cd40-4c1e-a383-f15f982a37c6"
      },
      "source": [
        "%cd /content/drive/MyDrive/"
      ],
      "execution_count": null,
      "outputs": [
        {
          "output_type": "stream",
          "name": "stdout",
          "text": [
            "/content/drive/MyDrive\n"
          ]
        }
      ]
    },
    {
      "cell_type": "markdown",
      "metadata": {
        "id": "aKo5JuZyPAgp"
      },
      "source": [
        "Create the main directory for the laboratory inside your Google Drive"
      ]
    },
    {
      "cell_type": "code",
      "metadata": {
        "id": "k7D08GG8nOxN"
      },
      "source": [
        "!mkdir NLP_MASTER"
      ],
      "execution_count": null,
      "outputs": []
    },
    {
      "cell_type": "markdown",
      "metadata": {
        "id": "AMqF_TKgPGZU"
      },
      "source": [
        "Remove unwanted directories (if it is your first run these directories do not exist and the following two commands have no effect)"
      ]
    },
    {
      "cell_type": "code",
      "metadata": {
        "id": "G3sbhSc3RnWf"
      },
      "source": [
        "!rm -rf /content/drive/MyDrive/NLP_MASTER/finance"
      ],
      "execution_count": null,
      "outputs": []
    },
    {
      "cell_type": "code",
      "metadata": {
        "id": "kM0LeaHzWIIW"
      },
      "source": [
        "!rm -rf /content/drive/MyDrive/NLP_MASTER/spacy-projects"
      ],
      "execution_count": null,
      "outputs": []
    },
    {
      "cell_type": "markdown",
      "metadata": {
        "id": "uZcJb1vxPRgU"
      },
      "source": [
        "Now let's install all the dependencies for the laboratory"
      ]
    },
    {
      "cell_type": "code",
      "metadata": {
        "colab": {
          "base_uri": "https://localhost:8080/"
        },
        "id": "MyKK8ROgQwDJ",
        "outputId": "f8d6fe49-15aa-4199-a3c9-6d75537c6253"
      },
      "source": [
        "!pip install -U pip setuptools wheel"
      ],
      "execution_count": null,
      "outputs": [
        {
          "output_type": "stream",
          "name": "stdout",
          "text": [
            "\u001b[33mWARNING: Ignoring invalid distribution -pacy (/usr/local/lib/python3.10/dist-packages)\u001b[0m\u001b[33m\n",
            "\u001b[0mRequirement already satisfied: pip in /usr/local/lib/python3.10/dist-packages (24.0)\n",
            "Requirement already satisfied: setuptools in /usr/local/lib/python3.10/dist-packages (70.0.0)\n",
            "Requirement already satisfied: wheel in /usr/local/lib/python3.10/dist-packages (0.43.0)\n",
            "\u001b[33mWARNING: Ignoring invalid distribution -pacy (/usr/local/lib/python3.10/dist-packages)\u001b[0m\u001b[33m\n",
            "\u001b[0m\u001b[33mWARNING: Running pip as the 'root' user can result in broken permissions and conflicting behaviour with the system package manager. It is recommended to use a virtual environment instead: https://pip.pypa.io/warnings/venv\u001b[0m\u001b[33m\n",
            "\u001b[0m"
          ]
        }
      ]
    },
    {
      "cell_type": "code",
      "metadata": {
        "colab": {
          "base_uri": "https://localhost:8080/"
        },
        "id": "FjdSfytkO30n",
        "outputId": "c9b56963-26dd-4b9b-cc0e-afa8476ddfc0"
      },
      "source": [
        "#!pip install -U spacy-nightly --pre"
      ],
      "execution_count": null,
      "outputs": [
        {
          "output_type": "stream",
          "name": "stdout",
          "text": [
            "Collecting spacy-nightly\n",
            "  Downloading spacy-nightly-3.0.0rc5.tar.gz (7.0 MB)\n",
            "\u001b[?25l     \u001b[90m━━━━━━━━━━━━━━━━━━━━━━━━━━━━━━━━━━━━━━━━\u001b[0m \u001b[32m0.0/7.0 MB\u001b[0m \u001b[31m?\u001b[0m eta \u001b[36m-:--:--\u001b[0m\r\u001b[2K     \u001b[91m━━━━━\u001b[0m\u001b[90m╺\u001b[0m\u001b[90m━━━━━━━━━━━━━━━━━━━━━━━━━━━━━━━━━━\u001b[0m \u001b[32m0.9/7.0 MB\u001b[0m \u001b[31m27.6 MB/s\u001b[0m eta \u001b[36m0:00:01\u001b[0m\r\u001b[2K     \u001b[91m━━━━━━━━━━━━━━━━━━━━━━━━━━━━━━\u001b[0m\u001b[90m╺\u001b[0m\u001b[90m━━━━━━━━━\u001b[0m \u001b[32m5.3/7.0 MB\u001b[0m \u001b[31m76.9 MB/s\u001b[0m eta \u001b[36m0:00:01\u001b[0m\r\u001b[2K     \u001b[91m━━━━━━━━━━━━━━━━━━━━━━━━━━━━━━━━━━━━━━━\u001b[0m\u001b[91m╸\u001b[0m \u001b[32m7.0/7.0 MB\u001b[0m \u001b[31m87.8 MB/s\u001b[0m eta \u001b[36m0:00:01\u001b[0m\r\u001b[2K     \u001b[90m━━━━━━━━━━━━━━━━━━━━━━━━━━━━━━━━━━━━━━━━\u001b[0m \u001b[32m7.0/7.0 MB\u001b[0m \u001b[31m65.5 MB/s\u001b[0m eta \u001b[36m0:00:00\u001b[0m\n",
            "\u001b[?25h  Installing build dependencies ... \u001b[?25l\u001b[?25hcanceled\n",
            "\u001b[31mERROR: Operation cancelled by user\u001b[0m\u001b[31m\n",
            "\u001b[0m"
          ]
        }
      ]
    },
    {
      "cell_type": "code",
      "metadata": {
        "colab": {
          "base_uri": "https://localhost:8080/"
        },
        "id": "p0O7OmXHRbaG",
        "outputId": "1ffd1aa9-24be-4817-992b-5bcc7b3246e1"
      },
      "source": [
        "!pip install -U spacy transformers"
      ],
      "execution_count": null,
      "outputs": [
        {
          "output_type": "stream",
          "name": "stdout",
          "text": [
            "\u001b[33mWARNING: Ignoring invalid distribution -pacy (/usr/local/lib/python3.10/dist-packages)\u001b[0m\u001b[33m\n",
            "\u001b[0mCollecting spacy\n",
            "  Using cached spacy-3.7.5-cp310-cp310-manylinux_2_17_x86_64.manylinux2014_x86_64.whl.metadata (27 kB)\n",
            "Requirement already satisfied: transformers in /usr/local/lib/python3.10/dist-packages (4.41.2)\n",
            "Requirement already satisfied: spacy-legacy<3.1.0,>=3.0.11 in /usr/local/lib/python3.10/dist-packages (from spacy) (3.0.12)\n",
            "Requirement already satisfied: spacy-loggers<2.0.0,>=1.0.0 in /usr/local/lib/python3.10/dist-packages (from spacy) (1.0.5)\n",
            "Requirement already satisfied: murmurhash<1.1.0,>=0.28.0 in /usr/local/lib/python3.10/dist-packages (from spacy) (1.0.10)\n",
            "Requirement already satisfied: cymem<2.1.0,>=2.0.2 in /usr/local/lib/python3.10/dist-packages (from spacy) (2.0.8)\n",
            "Requirement already satisfied: preshed<3.1.0,>=3.0.2 in /usr/local/lib/python3.10/dist-packages (from spacy) (3.0.9)\n",
            "Requirement already satisfied: thinc<8.3.0,>=8.2.2 in /usr/local/lib/python3.10/dist-packages (from spacy) (8.2.3)\n",
            "Requirement already satisfied: wasabi<1.2.0,>=0.9.1 in /usr/local/lib/python3.10/dist-packages (from spacy) (1.1.3)\n",
            "Requirement already satisfied: srsly<3.0.0,>=2.4.3 in /usr/local/lib/python3.10/dist-packages (from spacy) (2.4.8)\n",
            "Requirement already satisfied: catalogue<2.1.0,>=2.0.6 in /usr/local/lib/python3.10/dist-packages (from spacy) (2.0.10)\n",
            "Requirement already satisfied: weasel<0.5.0,>=0.1.0 in /usr/local/lib/python3.10/dist-packages (from spacy) (0.3.4)\n",
            "Requirement already satisfied: typer<1.0.0,>=0.3.0 in /usr/local/lib/python3.10/dist-packages (from spacy) (0.9.4)\n",
            "Requirement already satisfied: tqdm<5.0.0,>=4.38.0 in /usr/local/lib/python3.10/dist-packages (from spacy) (4.66.4)\n",
            "Requirement already satisfied: requests<3.0.0,>=2.13.0 in /usr/local/lib/python3.10/dist-packages (from spacy) (2.31.0)\n",
            "Requirement already satisfied: pydantic!=1.8,!=1.8.1,<3.0.0,>=1.7.4 in /usr/local/lib/python3.10/dist-packages (from spacy) (2.7.3)\n",
            "Requirement already satisfied: jinja2 in /usr/local/lib/python3.10/dist-packages (from spacy) (3.1.4)\n",
            "Requirement already satisfied: setuptools in /usr/local/lib/python3.10/dist-packages (from spacy) (70.0.0)\n",
            "Requirement already satisfied: packaging>=20.0 in /usr/local/lib/python3.10/dist-packages (from spacy) (24.0)\n",
            "Requirement already satisfied: langcodes<4.0.0,>=3.2.0 in /usr/local/lib/python3.10/dist-packages (from spacy) (3.4.0)\n",
            "Requirement already satisfied: numpy>=1.19.0 in /usr/local/lib/python3.10/dist-packages (from spacy) (1.25.2)\n",
            "Requirement already satisfied: filelock in /usr/local/lib/python3.10/dist-packages (from transformers) (3.14.0)\n",
            "Requirement already satisfied: huggingface-hub<1.0,>=0.23.0 in /usr/local/lib/python3.10/dist-packages (from transformers) (0.23.2)\n",
            "Requirement already satisfied: pyyaml>=5.1 in /usr/local/lib/python3.10/dist-packages (from transformers) (6.0.1)\n",
            "Requirement already satisfied: regex!=2019.12.17 in /usr/local/lib/python3.10/dist-packages (from transformers) (2024.5.15)\n",
            "Requirement already satisfied: tokenizers<0.20,>=0.19 in /usr/local/lib/python3.10/dist-packages (from transformers) (0.19.1)\n",
            "Requirement already satisfied: safetensors>=0.4.1 in /usr/local/lib/python3.10/dist-packages (from transformers) (0.4.3)\n",
            "Requirement already satisfied: fsspec>=2023.5.0 in /usr/local/lib/python3.10/dist-packages (from huggingface-hub<1.0,>=0.23.0->transformers) (2023.6.0)\n",
            "Requirement already satisfied: typing-extensions>=3.7.4.3 in /usr/local/lib/python3.10/dist-packages (from huggingface-hub<1.0,>=0.23.0->transformers) (4.12.1)\n",
            "Requirement already satisfied: language-data>=1.2 in /usr/local/lib/python3.10/dist-packages (from langcodes<4.0.0,>=3.2.0->spacy) (1.2.0)\n",
            "Requirement already satisfied: annotated-types>=0.4.0 in /usr/local/lib/python3.10/dist-packages (from pydantic!=1.8,!=1.8.1,<3.0.0,>=1.7.4->spacy) (0.7.0)\n",
            "Requirement already satisfied: pydantic-core==2.18.4 in /usr/local/lib/python3.10/dist-packages (from pydantic!=1.8,!=1.8.1,<3.0.0,>=1.7.4->spacy) (2.18.4)\n",
            "Requirement already satisfied: charset-normalizer<4,>=2 in /usr/local/lib/python3.10/dist-packages (from requests<3.0.0,>=2.13.0->spacy) (3.3.2)\n",
            "Requirement already satisfied: idna<4,>=2.5 in /usr/local/lib/python3.10/dist-packages (from requests<3.0.0,>=2.13.0->spacy) (3.7)\n",
            "Requirement already satisfied: urllib3<3,>=1.21.1 in /usr/local/lib/python3.10/dist-packages (from requests<3.0.0,>=2.13.0->spacy) (2.0.7)\n",
            "Requirement already satisfied: certifi>=2017.4.17 in /usr/local/lib/python3.10/dist-packages (from requests<3.0.0,>=2.13.0->spacy) (2024.6.2)\n",
            "Requirement already satisfied: blis<0.8.0,>=0.7.8 in /usr/local/lib/python3.10/dist-packages (from thinc<8.3.0,>=8.2.2->spacy) (0.7.11)\n",
            "Requirement already satisfied: confection<1.0.0,>=0.0.1 in /usr/local/lib/python3.10/dist-packages (from thinc<8.3.0,>=8.2.2->spacy) (0.1.5)\n",
            "Requirement already satisfied: click<9.0.0,>=7.1.1 in /usr/local/lib/python3.10/dist-packages (from typer<1.0.0,>=0.3.0->spacy) (8.1.7)\n",
            "Requirement already satisfied: cloudpathlib<0.17.0,>=0.7.0 in /usr/local/lib/python3.10/dist-packages (from weasel<0.5.0,>=0.1.0->spacy) (0.16.0)\n",
            "Requirement already satisfied: smart-open<7.0.0,>=5.2.1 in /usr/local/lib/python3.10/dist-packages (from weasel<0.5.0,>=0.1.0->spacy) (6.4.0)\n",
            "Requirement already satisfied: MarkupSafe>=2.0 in /usr/local/lib/python3.10/dist-packages (from jinja2->spacy) (2.1.5)\n",
            "Requirement already satisfied: marisa-trie>=0.7.7 in /usr/local/lib/python3.10/dist-packages (from language-data>=1.2->langcodes<4.0.0,>=3.2.0->spacy) (1.1.1)\n",
            "Using cached spacy-3.7.5-cp310-cp310-manylinux_2_17_x86_64.manylinux2014_x86_64.whl (6.6 MB)\n",
            "\u001b[33mWARNING: Ignoring invalid distribution -pacy (/usr/local/lib/python3.10/dist-packages)\u001b[0m\u001b[33m\n",
            "\u001b[0mInstalling collected packages: spacy\n",
            "Successfully installed spacy-3.7.5\n",
            "\u001b[33mWARNING: Running pip as the 'root' user can result in broken permissions and conflicting behaviour with the system package manager. It is recommended to use a virtual environment instead: https://pip.pypa.io/warnings/venv\u001b[0m\u001b[33m\n",
            "\u001b[0m"
          ]
        }
      ]
    },
    {
      "cell_type": "markdown",
      "metadata": {
        "id": "Mofd5GxBPXFa"
      },
      "source": [
        "Now that everything is set up, change working directory to the newly created directory NLP_MASTER in your Google Drive"
      ]
    },
    {
      "cell_type": "code",
      "metadata": {
        "colab": {
          "base_uri": "https://localhost:8080/"
        },
        "id": "kjw_FZuXDEOy",
        "outputId": "abc7560f-6016-4187-c6c9-4abcdf77f6dc"
      },
      "source": [
        "%cd /content/drive/MyDrive/NLP_MASTER/"
      ],
      "execution_count": null,
      "outputs": [
        {
          "output_type": "stream",
          "name": "stdout",
          "text": [
            "/content/drive/MyDrive/NLP_MASTER\n"
          ]
        }
      ]
    },
    {
      "cell_type": "markdown",
      "metadata": {
        "id": "fPlHXzyLPgSv"
      },
      "source": [
        "Clone the official projects from the Spacy Repo, you are going to start from [this one](https://github.com/explosion/projects/tree/v3/tutorials/textcat_goemotions) and adapt it to the sentiment classification of financial news headlines"
      ]
    },
    {
      "cell_type": "code",
      "metadata": {
        "colab": {
          "base_uri": "https://localhost:8080/"
        },
        "id": "gTvvKjIbDfxm",
        "outputId": "a87dd807-e958-417b-b3eb-7af660bb8959"
      },
      "source": [
        "!git clone https://github.com/explosion/projects.git spacy-projects"
      ],
      "execution_count": null,
      "outputs": [
        {
          "output_type": "stream",
          "name": "stdout",
          "text": [
            "Cloning into 'spacy-projects'...\n",
            "remote: Enumerating objects: 4663, done.\u001b[K\n",
            "remote: Counting objects: 100% (902/902), done.\u001b[K\n",
            "remote: Compressing objects: 100% (413/413), done.\u001b[K\n",
            "remote: Total 4663 (delta 590), reused 660 (delta 482), pack-reused 3761\u001b[K\n",
            "Receiving objects: 100% (4663/4663), 19.05 MiB | 10.39 MiB/s, done.\n",
            "Resolving deltas: 100% (2779/2779), done.\n",
            "Updating files: 100% (594/594), done.\n"
          ]
        }
      ]
    },
    {
      "cell_type": "markdown",
      "metadata": {
        "id": "RJK3BhiXP8DT"
      },
      "source": [
        "Let's now create a subdirectory \"finance\" inside NLP_MASTER, where we are going to copy the textcat_goemotions tutorial we just cloned with git with the command above"
      ]
    },
    {
      "cell_type": "code",
      "metadata": {
        "id": "QOxbLb97D4x-",
        "colab": {
          "base_uri": "https://localhost:8080/"
        },
        "outputId": "7776937c-9281-4076-ac4d-f200569c7e26"
      },
      "source": [
        "!mkdir finance"
      ],
      "execution_count": null,
      "outputs": [
        {
          "output_type": "stream",
          "name": "stdout",
          "text": [
            "mkdir: cannot create directory ‘finance’: File exists\n"
          ]
        }
      ]
    },
    {
      "cell_type": "code",
      "metadata": {
        "id": "MTp6GIMhDtKS"
      },
      "source": [
        "!cp -r spacy-projects/tutorials/textcat_goemotions/* finance/"
      ],
      "execution_count": null,
      "outputs": []
    },
    {
      "cell_type": "code",
      "metadata": {
        "colab": {
          "base_uri": "https://localhost:8080/"
        },
        "id": "zxhHBE5tEEoQ",
        "outputId": "41b46ff3-03be-402e-8a66-8e32a468b883"
      },
      "source": [
        "%cd /content/drive/MyDrive/NLP_MASTER/finance/"
      ],
      "execution_count": null,
      "outputs": [
        {
          "output_type": "stream",
          "name": "stdout",
          "text": [
            "/content/drive/MyDrive/NLP_MASTER/finance\n"
          ]
        }
      ]
    },
    {
      "cell_type": "markdown",
      "metadata": {
        "id": "sRzaWYD1QKfd"
      },
      "source": [
        "Spacy command line in action: now that we moved in the root directory of the project we tell Spacy to download everything the project needs in order to be run"
      ]
    },
    {
      "cell_type": "code",
      "metadata": {
        "colab": {
          "base_uri": "https://localhost:8080/"
        },
        "id": "7f9FRuUTRg1c",
        "outputId": "c445a8d4-b7ba-41aa-ce85-6fe2dfbc7014"
      },
      "source": [
        "!spacy project assets"
      ],
      "execution_count": null,
      "outputs": [
        {
          "output_type": "stream",
          "name": "stdout",
          "text": [
            "\u001b[38;5;4mℹ Fetching 4 asset(s)\u001b[0m\n",
            "\u001b[38;5;2m✔ Downloaded asset\n",
            "/content/drive/MyDrive/NLP_MASTER/finance/assets/categories.txt\u001b[0m\n",
            "\u001b[38;5;2m✔ Downloaded asset\n",
            "/content/drive/MyDrive/NLP_MASTER/finance/assets/train.tsv\u001b[0m\n",
            "\u001b[38;5;2m✔ Downloaded asset\n",
            "/content/drive/MyDrive/NLP_MASTER/finance/assets/dev.tsv\u001b[0m\n",
            "\u001b[38;5;2m✔ Downloaded asset\n",
            "/content/drive/MyDrive/NLP_MASTER/finance/assets/test.tsv\u001b[0m\n"
          ]
        }
      ]
    },
    {
      "cell_type": "markdown",
      "metadata": {
        "id": "78DD2RmEcR2F"
      },
      "source": [
        "# Sentiment analysis: Reddit Posts Dataset"
      ]
    },
    {
      "cell_type": "markdown",
      "metadata": {
        "id": "ZPwXLgE9hv6G"
      },
      "source": [
        "*Example records [TEXT_CONTENT, EMOTION_ID, TEXT_ID]:*\n",
        "\n",
        "You can take a look at the dataset [here](https://drive.google.com/file/d/118kEBuOXikDJhlAvDVmAVxNBymtQ5MKb/view?usp=sharing)"
      ]
    },
    {
      "cell_type": "markdown",
      "metadata": {
        "id": "o4QqOVpUhtyb"
      },
      "source": [
        "*   My favourite food is anything I didn't have to cook myself.\t27\teebbqej\n",
        "*   Thank you friend\t15\teeqd04y\n",
        "*   It's crazy how far Photoshop has come. Underwater bridges?!! NEVER!!!\t7,13\tefanc6t\n",
        "\n",
        "\n",
        "Check out **assets/categories.txt** to explore the labels for this dataset. *The first row corresponds to the emotion_id 0, the second row to the emotion_id 1 and so on.*\n",
        "\n",
        "---\n",
        "\n"
      ]
    },
    {
      "cell_type": "markdown",
      "metadata": {
        "id": "ZJMuYICMaiqC"
      },
      "source": [
        "***Edit project.yml and change gpu_id from -1 to 0 in order to take advantage of the Colab GPU***"
      ]
    },
    {
      "cell_type": "markdown",
      "metadata": {
        "id": "Y96ESvsRtP2V"
      },
      "source": [
        "Let Spacy **preprocess Reddit Posts Dataset** (assets/train.tsv, assets/dev.tsv, assets/test.tsv and assets/categories.txt) and format it as it internally needs."
      ]
    },
    {
      "cell_type": "code",
      "metadata": {
        "colab": {
          "base_uri": "https://localhost:8080/"
        },
        "id": "-3yma_DPSBfT",
        "outputId": "98f6f36e-1a50-4f57-995d-e92c58fcadca"
      },
      "source": [
        "!spacy project run preprocess"
      ],
      "execution_count": null,
      "outputs": [
        {
          "output_type": "stream",
          "name": "stdout",
          "text": [
            "\u001b[1m\n",
            "================================= preprocess =================================\u001b[0m\n",
            "Running command: /usr/bin/python3 scripts/convert_corpus.py\n"
          ]
        }
      ]
    },
    {
      "cell_type": "markdown",
      "metadata": {
        "id": "8M7Z42aexBQP"
      },
      "source": [
        "Now that the dataset has been processed, **let's train the model** on the Reddit posts!"
      ]
    },
    {
      "cell_type": "code",
      "metadata": {
        "colab": {
          "base_uri": "https://localhost:8080/"
        },
        "id": "Gs2nJiMGSSkH",
        "outputId": "19b59714-8259-43c2-947d-60a614039623"
      },
      "source": [
        "!spacy project run train"
      ],
      "execution_count": null,
      "outputs": [
        {
          "output_type": "stream",
          "name": "stdout",
          "text": [
            "\u001b[1m\n",
            "=================================== train ===================================\u001b[0m\n",
            "Running command: /usr/bin/python3 -m spacy train ./configs/cnn.cfg -o training/cnn --gpu-id -1\n",
            "\u001b[38;5;2m✔ Created output directory: training/cnn\u001b[0m\n",
            "\u001b[38;5;4mℹ Saving to output directory: training/cnn\u001b[0m\n",
            "\u001b[38;5;4mℹ Using CPU\u001b[0m\n",
            "\u001b[38;5;4mℹ To switch to GPU 0, use the option: --gpu-id 0\u001b[0m\n",
            "\u001b[1m\n",
            "=========================== Initializing pipeline ===========================\u001b[0m\n",
            "\u001b[38;5;2m✔ Initialized pipeline\u001b[0m\n",
            "\u001b[1m\n",
            "============================= Training pipeline =============================\u001b[0m\n",
            "\u001b[38;5;4mℹ Pipeline: ['textcat']\u001b[0m\n",
            "\u001b[38;5;4mℹ Initial learn rate: 0.001\u001b[0m\n",
            "E    #       LOSS TEXTCAT  CATS_SCORE  SCORE \n",
            "---  ------  ------------  ----------  ------\n",
            "  0       0          0.27       50.46    0.50\n",
            "  0     200          7.96       57.03    0.57\n",
            "  0     400          7.04       60.02    0.60\n",
            "  0     600          6.61       62.25    0.62\n",
            "  0     800          6.45       63.64    0.64\n",
            "  0    1000          6.34       66.80    0.67\n",
            "  0    1200          6.19       69.88    0.70\n",
            "  1    1400          6.02       72.13    0.72\n",
            "  1    1600          5.67       73.92    0.74\n",
            "  1    1800          5.74       75.33    0.75\n",
            "  1    2000          5.80       76.51    0.77\n",
            "  1    2200          5.65       76.74    0.77\n",
            "  1    2400          5.60       77.74    0.78\n",
            "  1    2600          5.63       78.36    0.78\n",
            "  2    2800          5.41       78.72    0.79\n",
            "  2    3000          5.30       79.01    0.79\n",
            "  2    3200          5.33       79.43    0.79\n",
            "  2    3400          5.23       79.99    0.80\n",
            "  2    3600          5.32       80.21    0.80\n",
            "  2    3800          5.19       80.39    0.80\n",
            "  2    4000          5.34       80.51    0.81\n",
            "  3    4200          5.00       80.80    0.81\n",
            "  3    4400          4.93       80.98    0.81\n",
            "  3    4600          4.99       81.28    0.81\n",
            "  3    4800          4.90       81.53    0.82\n",
            "  3    5000          5.00       81.84    0.82\n",
            "  3    5200          5.02       82.14    0.82\n",
            "  3    5400          5.07       82.23    0.82\n",
            "  4    5600          4.69       82.31    0.82\n",
            "  4    5800          4.68       82.43    0.82\n",
            "  4    6000          4.77       82.53    0.83\n",
            "  4    6200          4.63       82.72    0.83\n",
            "  4    6400          4.85       82.84    0.83\n",
            "  4    6600          4.77       82.92    0.83\n",
            "  5    6800          4.65       83.11    0.83\n",
            "  5    7000          4.38       83.25    0.83\n",
            "  5    7200          4.39       83.41    0.83\n",
            "  5    7400          4.42       83.48    0.83\n",
            "  5    7600          4.53       83.58    0.84\n",
            "  5    7800          4.59       83.61    0.84\n",
            "  5    8000          4.47       83.61    0.84\n",
            "  6    8200          4.46       83.68    0.84\n",
            "  6    8400          4.08       83.75    0.84\n",
            "  6    8600          4.36       83.73    0.84\n",
            "  6    8800          4.26       83.70    0.84\n",
            "  6    9000          4.29       83.64    0.84\n",
            "  6    9200          4.37       83.68    0.84\n",
            "  6    9400          4.37       83.73    0.84\n",
            "  7    9600          4.08       83.73    0.84\n",
            "  7    9800          3.92       83.70    0.84\n",
            "  7   10000          4.13       83.63    0.84\n",
            "\u001b[38;5;2m✔ Saved pipeline to output directory\u001b[0m\n",
            "training/cnn/model-last\n"
          ]
        }
      ]
    },
    {
      "cell_type": "markdown",
      "metadata": {
        "id": "WrWk8jo_xKt0"
      },
      "source": [
        "Automatic SpaCy evaluation of the model you just trained"
      ]
    },
    {
      "cell_type": "code",
      "metadata": {
        "colab": {
          "base_uri": "https://localhost:8080/"
        },
        "id": "vsUFT-TZWnUR",
        "outputId": "001ed6c8-4c64-441f-bcdf-27ec88bcf6de"
      },
      "source": [
        "!spacy project run evaluate"
      ],
      "execution_count": null,
      "outputs": [
        {
          "output_type": "stream",
          "name": "stdout",
          "text": [
            "\u001b[1m\n",
            "================================== evaluate ==================================\u001b[0m\n",
            "Running command: /usr/bin/python3 -m spacy evaluate ./training/cnn/model-best ./corpus/test.spacy --output ./metrics/cnn.json\n",
            "\u001b[38;5;4mℹ Using CPU\u001b[0m\n",
            "\u001b[38;5;4mℹ To switch to GPU 0, use the option: --gpu-id 0\u001b[0m\n",
            "\u001b[1m\n",
            "================================== Results ==================================\u001b[0m\n",
            "\n",
            "TOK                   100.00\n",
            "TEXTCAT (macro AUC)   83.39 \n",
            "SPEED                 18184 \n",
            "\n",
            "\u001b[1m\n",
            "=========================== Textcat F (per label) ===========================\u001b[0m\n",
            "\n",
            "                     P       R       F\n",
            "admiration       68.35   59.13   63.40\n",
            "amusement        77.78   82.20   79.93\n",
            "anger            58.33   24.75   34.75\n",
            "annoyance        48.44    9.69   16.15\n",
            "approval         58.33   15.95   25.06\n",
            "caring           62.96   12.59   20.99\n",
            "confusion        49.06   16.99   25.24\n",
            "curiosity        51.40   32.39   39.74\n",
            "desire           53.12   20.48   29.57\n",
            "disappointment   50.00    0.66    1.31\n",
            "disapproval      43.28   10.86   17.37\n",
            "disgust          51.22   17.07   25.61\n",
            "embarrassment     0.00    0.00    0.00\n",
            "excitement       75.00   11.65   20.17\n",
            "fear             85.71   38.46   53.10\n",
            "gratitude        93.53   90.34   91.91\n",
            "grief             0.00    0.00    0.00\n",
            "joy              58.12   42.24   48.92\n",
            "love             78.69   80.67   79.67\n",
            "nervousness       0.00    0.00    0.00\n",
            "optimism         70.00   41.40   52.03\n",
            "pride             0.00    0.00    0.00\n",
            "realization       0.00    0.00    0.00\n",
            "relief            0.00    0.00    0.00\n",
            "remorse          62.71   66.07   64.35\n",
            "sadness          69.62   35.26   46.81\n",
            "surprise         61.76   29.79   40.19\n",
            "neutral          62.12   62.51   62.32\n",
            "\n",
            "\u001b[1m\n",
            "======================== Textcat ROC AUC (per label) ========================\u001b[0m\n",
            "\n",
            "                 ROC AUC\n",
            "admiration          0.89\n",
            "amusement           0.96\n",
            "anger               0.84\n",
            "annoyance           0.79\n",
            "approval            0.77\n",
            "caring              0.81\n",
            "confusion           0.88\n",
            "curiosity           0.90\n",
            "desire              0.85\n",
            "disappointment      0.78\n",
            "disapproval         0.83\n",
            "disgust             0.89\n",
            "embarrassment       0.74\n",
            "excitement          0.83\n",
            "fear                0.87\n",
            "gratitude           0.97\n",
            "grief               0.51\n",
            "joy                 0.87\n",
            "love                0.97\n",
            "nervousness         0.76\n",
            "optimism            0.87\n",
            "pride               0.75\n",
            "realization         0.76\n",
            "relief              0.77\n",
            "remorse             0.98\n",
            "sadness             0.87\n",
            "surprise            0.83\n",
            "neutral             0.81\n",
            "\n",
            "\u001b[38;5;2m✔ Saved results to metrics/cnn.json\u001b[0m\n"
          ]
        }
      ]
    },
    {
      "cell_type": "markdown",
      "metadata": {
        "id": "GvPLr4kjmevs"
      },
      "source": [
        "Let's test the model on some examples, **feel free to change them to whatever you want**!"
      ]
    },
    {
      "cell_type": "code",
      "metadata": {
        "colab": {
          "base_uri": "https://localhost:8080/"
        },
        "id": "tP9ZWIoJXGmy",
        "outputId": "c7678ed4-3a11-4139-f6e1-209aa03561a3"
      },
      "source": [
        "import spacy\n",
        "nlp = spacy.load(\"./training/cnn/model-best\")\n",
        "\n",
        "texts = [\n",
        "    \"It was really bad to watch you leave, hopefully you'll be back soon\",\n",
        "    \"Oh yes, I can relate to that. Still, you'd better think about it twice.\",\n",
        "]\n",
        "\n",
        "for doc in nlp.pipe(texts):\n",
        "    # Do something with the doc here\n",
        "    print(doc.cats)"
      ],
      "execution_count": null,
      "outputs": [
        {
          "output_type": "stream",
          "name": "stdout",
          "text": [
            "{'admiration': 0.0034495063591748476, 'amusement': 0.0034103163052350283, 'anger': 0.00824139267206192, 'annoyance': 0.0036229901015758514, 'approval': 0.006888858042657375, 'caring': 0.1147070825099945, 'confusion': 0.0007254867232404649, 'curiosity': 0.006565956398844719, 'desire': 0.027285708114504814, 'disappointment': 0.15754802525043488, 'disapproval': 0.007828064262866974, 'disgust': 0.0574275404214859, 'embarrassment': 0.005095605738461018, 'excitement': 0.01632966287434101, 'fear': 0.007915233261883259, 'gratitude': 0.0042739431373775005, 'grief': 0.0015688115963712335, 'joy': 0.0008439110824838281, 'love': 0.0013803112087771297, 'nervousness': 0.002749372273683548, 'optimism': 0.9889201521873474, 'pride': 0.0013569535221904516, 'realization': 0.00494409492239356, 'relief': 0.0011274284915998578, 'remorse': 0.008032864890992641, 'sadness': 0.12642258405685425, 'surprise': 0.001355200307443738, 'neutral': 0.004896792117506266}\n",
            "{'admiration': 0.042892564088106155, 'amusement': 0.010297409258782864, 'anger': 0.013619271107017994, 'annoyance': 0.021416734904050827, 'approval': 0.7270351648330688, 'caring': 0.05751868709921837, 'confusion': 0.017250794917345047, 'curiosity': 0.013503299094736576, 'desire': 0.004770657978951931, 'disappointment': 0.012052036821842194, 'disapproval': 0.012981361709535122, 'disgust': 0.004538502544164658, 'embarrassment': 0.004700756631791592, 'excitement': 0.02155732549726963, 'fear': 0.005261688493192196, 'gratitude': 0.025803495198488235, 'grief': 0.0006832523504272103, 'joy': 0.02027874067425728, 'love': 0.010236831381917, 'nervousness': 0.0032674879767000675, 'optimism': 0.09869901835918427, 'pride': 0.0040680221281945705, 'realization': 0.04337739199399948, 'relief': 0.002494955435395241, 'remorse': 0.010020758025348186, 'sadness': 0.007400326896458864, 'surprise': 0.01561766304075718, 'neutral': 0.31232741475105286}\n"
          ]
        }
      ]
    },
    {
      "cell_type": "markdown",
      "metadata": {
        "id": "icfgI4EuxGNO"
      },
      "source": [
        "#Data Preparation: from the Reddit Post Dataset to the Financial News Dataset\n",
        "**TODO: Upload Financial News Dataset file FinancialPhraseBank_AllAgree.txt to the assets folder, you can find the dataset [here](https://drive.google.com/file/d/1WXM2t8sh-myIEUZt37zIXC2McNrCyS2l/view?usp=sharing)**\\\n",
        "Financial news dataset example records [TEXT_CONTENT, SENTIMENT_LABEL]:\n",
        "\n",
        "\n",
        "*   According to Gran , the company has no plans to move all production to Russia , although that is where the company is growing .@neutral\n",
        "*   Finnish Talentum reports its operating profit increased to EUR 20.5 mn in 2005 from EUR 9.3 mn in 2004 , and net sales totaled EUR 103.3 mn , up from EUR 96.4 mn .@positive\n",
        "*   Pharmaceuticals group Orion Corp reported a fall in its third-quarter earnings that were hit by larger expenditures on R&D and marketing .@negative\n",
        "\n",
        "\n",
        "\n",
        "---\n",
        "\n",
        "Now you have to **format the Financial News Dataset like the Reddit Posts Dataset**, in order to retrain the sentiment classifier on the new financial dataset.\n",
        "\n",
        "Remember to split the dataset into train (70%), validation (10%) and test (20%), **saving the respective TSV files (train.tsv, dev.tsv, test.tsv) in the asset folder** .\n",
        "\n"
      ]
    }
  ]
}